{
 "cells": [
  {
   "cell_type": "markdown",
   "id": "cc098e26-f3bd-4d4b-9ca8-e5071d472fca",
   "metadata": {},
   "source": [
    "# Data Analysis on Heart Disease"
   ]
  },
  {
   "cell_type": "markdown",
   "id": "75587974-896b-4c03-9bda-8640032b350f",
   "metadata": {},
   "source": [
    "## Introduction\n",
    "One of the leading causes of death in the world and the leading cause in the United States, is heart disease and has been for many years. With the rate of them increasing worldwide in recent years, it is important to look at the leading causes of this disease and establish a relationship between them and its global increase. As a base for our analysis we are going to use the heart disease dataset available at Kaggle.\n",
    "\n",
    "The dataset originates from 1988 and evaluates data from four different databases: Cleveland, Hungary, Switzerland and Long Beach V. While the dataset does have 76 distinct attributes, it only utilizes 14 of them. \n",
    "\n",
    "**Predictive question:**\n",
    "How does the amount of cholesterol, type of heart defect, age, and sex help us predict the diagnosis of heart disease?\n"
   ]
  },
  {
   "cell_type": "code",
   "execution_count": null,
   "id": "cfc11267-fb04-4cf6-8688-81749e31c029",
   "metadata": {
    "tags": [],
    "vscode": {
     "languageId": "r"
    }
   },
   "outputs": [],
   "source": [
    "### Run this cell before continuing.\n",
    "\n",
    "library(repr)\n",
    "library(tidyverse)\n",
    "library(tidymodels)\n",
    "library(dplyr)\n",
    "library(ggplot2)\n",
    "options(repr.matrix.max.rows = 10)"
   ]
  },
  {
   "cell_type": "markdown",
   "id": "caac711a-783d-4ce3-ab5a-7857e74d8953",
   "metadata": {},
   "source": [
    "### Reading the Data\n",
    "\n",
    "First read the raw data from GitHub that we uploaded."
   ]
  },
  {
   "cell_type": "code",
   "execution_count": null,
   "id": "0fef424f-ebfe-4384-9d71-d2a4aa5a473b",
   "metadata": {
    "tags": [],
    "vscode": {
     "languageId": "r"
    }
   },
   "outputs": [],
   "source": [
    "heart_disease_data <- read_csv(\"https://raw.githubusercontent.com/yma24ma/dsci_009_43_gp/main/heart.csv\")\n",
    "heart_disease_data"
   ]
  },
  {
   "cell_type": "markdown",
   "id": "feb6acd4-1eb5-4b29-88e3-a64333cbc958",
   "metadata": {},
   "source": [
    "**Variables**\n",
    "\n",
    "age: Age\n",
    "\n",
    "sex: Sex\n",
    "\n",
    "cp: Chest pain type (4 values)\n",
    "\n",
    "trestbps: resting blood pressure\n",
    "\n",
    "chol: serum cholestoral in mg/dl\n",
    "\n",
    "fbs: fasting blood sugar > 120 mg/dl\n",
    "\n",
    "restecg: resting electrocardiographic results (values 0,1,2)\n",
    "\n",
    "thalacg: maximum heart rate achieved\n",
    "\n",
    "exang: exercise induced angina\n",
    "\n",
    "oldpeak: ST depression induced by exercise relative to rest\n",
    "\n",
    "slope: the slope of the peak exercise ST segment\n",
    "\n",
    "ca: number of major vessels (0-3) colored by flourosopy\n",
    "\n",
    "thal: 0 = normal; 1 = fixed defect; 2 = reversable defect\n",
    "\n",
    "target: diagnosis of heart disease"
   ]
  },
  {
   "cell_type": "markdown",
   "id": "990e28cc-1d6b-4324-90df-2b0b4c8a678f",
   "metadata": {
    "tags": []
   },
   "source": [
    "**Select Data**\n",
    "\n",
    "We will now be using the `select()` function to select the row that we will be using in this analysis and make it into one table."
   ]
  },
  {
   "cell_type": "code",
   "execution_count": null,
   "id": "08132990-7890-4e79-8a53-f1a7c701c5c2",
   "metadata": {
    "tags": [],
    "vscode": {
     "languageId": "r"
    }
   },
   "outputs": [],
   "source": [
    "heart_disease_selected <- select(heart_disease_data, age, sex, fbs, exang, chol, target,thalach, trestbps)|>\n",
    "                        mutate(sex=as_factor(sex))|>\n",
    "                        mutate(fbs=as_factor(fbs))|>\n",
    "                        mutate(exang=as_factor(exang))|>\n",
    "                        mutate(target=as_factor(target))|>\n",
    "                        mutate(heart_disease=fct_recode(target, \"Yes\" = \"1\", \"No \" = \"0\"))\n",
    "heart_disease_selected"
   ]
  },
  {
   "cell_type": "markdown",
   "id": "cd651956-add7-4567-b4cd-dc11eea4bb95",
   "metadata": {},
   "source": [
    "We use the sum function to check if there are any NA values in our data tables"
   ]
  },
  {
   "cell_type": "code",
   "execution_count": null,
   "id": "0ec4d284-bbd8-4956-a86e-aed96bd46bbd",
   "metadata": {
    "tags": []
   },
   "outputs": [],
   "source": [
    "sum(is.na(heart_disease_selected))"
   ]
  },
  {
   "cell_type": "markdown",
   "id": "3bdda5e1",
   "metadata": {},
   "source": [
    "**Average of Selected**"
   ]
  },
  {
   "cell_type": "code",
   "execution_count": null,
   "id": "7f262c96",
   "metadata": {
    "tags": [],
    "vscode": {
     "languageId": "r"
    }
   },
   "outputs": [],
   "source": [
    "hd_average1 <- heart_disease_selected |>\n",
    "                map(mean) \n",
    "hd_average1"
   ]
  },
  {
   "cell_type": "markdown",
   "id": "dd77f9c6",
   "metadata": {},
   "source": [
    "**Plot Sex X Target**"
   ]
  },
  {
   "cell_type": "code",
   "execution_count": null,
   "id": "22486562",
   "metadata": {
    "tags": [],
    "vscode": {
     "languageId": "r"
    }
   },
   "outputs": [],
   "source": [
    "hd_sex_target_df <- heart_disease_selected |>\n",
    "                        group_by(sex) |>\n",
    "                        summarize(average_target = mean(target))\n",
    "hd_sex_target_df"
   ]
  },
  {
   "cell_type": "code",
   "execution_count": null,
   "id": "f00a7be6-f265-47be-82e9-2446f61dd0e9",
   "metadata": {
    "tags": []
   },
   "outputs": [],
   "source": [
    "hd_age_chol<-select(heart_disease_selected,age,chol,trestbps,heart_disease)|>\n",
    "                mutate(heart_disease)\n",
    "hd_age_chol"
   ]
  },
  {
   "cell_type": "code",
   "execution_count": null,
   "id": "8ff4adb8-ce09-429f-b9d4-302b4e38a714",
   "metadata": {
    "tags": []
   },
   "outputs": [],
   "source": [
    "hd_age_chol_plot<-ggplot(hd_age_chol,aes(x=age,y=chol,colour=heart_disease))+\n",
    "                        geom_point(alpha=0.3)+\n",
    "                        labs(x=\"Age\",y=\"Cholesterol\",colour=\"Heart Disease\")+       \n",
    "                    ggtitle(\"Age vs Cholesterol Scatterplot\")\n",
    "hd_age_chol_plot   "
   ]
  },
  {
   "cell_type": "code",
   "execution_count": null,
   "id": "0863875c-f025-4af1-8c9b-a1b11966dd18",
   "metadata": {
    "tags": []
   },
   "outputs": [],
   "source": [
    "all_temp_plot <- hd_age_chol|> \n",
    "   ggplot(aes(x = age, y = chol)) + \n",
    "   geom_point() + \n",
    "   facet_wrap(facets = vars(factor(heart_disease, levels = c(\"No\",\"Yes\")))) +\n",
    "   xlab('Age') + \n",
    "   ylab('Cholesterol') +\n",
    "   theme(text = element_text(size=20))\n",
    "\n",
    "all_temp_plot"
   ]
  },
  {
   "cell_type": "code",
   "execution_count": null,
   "id": "1bd06fd6-e732-4579-8236-650032220054",
   "metadata": {
    "tags": []
   },
   "outputs": [],
   "source": [
    "hd_age_thalach<-select(heart_disease_selected,age,thalach,heart_disease)|>\n",
    "                mutate(heart_disease)\n",
    "hd_age_thalach"
   ]
  },
  {
   "cell_type": "code",
   "execution_count": null,
   "id": "60e2d398-be84-413b-be7b-52e6c702479d",
   "metadata": {
    "tags": []
   },
   "outputs": [],
   "source": [
    "hd_age_thalach_plot<-ggplot(hd_age_thalach,aes(x=age,y=thalach,colour=heart_disease))+\n",
    "                        geom_point(alpha=0.3)+\n",
    "                        labs(x=\"Age\",y=\"Maximum Heart Rate\",colour=\"Heart Disease\")+       \n",
    "                    ggtitle(\"Age vs Maximum Heart Rate Scatterplot\")\n",
    "hd_age_thalach_plot   "
   ]
  },
  {
   "cell_type": "code",
   "execution_count": null,
   "id": "a78a1eec-8b69-44ab-be39-dc9e30cc9b2e",
   "metadata": {
    "tags": []
   },
   "outputs": [],
   "source": [
    "all_temp_plot <- hd_age_thalach |> \n",
    "   ggplot(aes(x = age, y = thalach)) + \n",
    "   geom_point() + \n",
    "   facet_wrap(facets = vars(factor(heart_disease, levels = c(\"No\",\"Yes\")))) +\n",
    "   xlab('Age') + \n",
    "   ylab('Maximum heat rate') +\n",
    "   theme(text = element_text(size=20))\n",
    "\n",
    "all_temp_plot"
   ]
  },
  {
   "cell_type": "code",
   "execution_count": null,
   "id": "64593b27-c0d4-480c-ab67-54c2e6652009",
   "metadata": {
    "tags": []
   },
   "outputs": [],
   "source": [
    "hd_age_trestbps<-select(heart_disease_selected,age,trestbps,heart_disease)|>\n",
    "                mutate(heart_disease)\n",
    "hd_age_trestbps"
   ]
  },
  {
   "cell_type": "code",
   "execution_count": null,
   "id": "c1eca26a-0a16-4a7e-93ac-7217932647bb",
   "metadata": {
    "tags": []
   },
   "outputs": [],
   "source": [
    "hd_age_trestbps_plot<-ggplot(hd_age_trestbps,aes(x=age,y=trestbps,colour=heart_disease))+\n",
    "                        geom_point(alpha=0.3)+\n",
    "                        labs(x=\"Age\",y=\"Resting Blood Pressure(mm/Hg)\",colour=\"Heart Disease\")+       \n",
    "                    ggtitle(\"Age vs Resting Blood Pressure Scatterplot\")\n",
    "hd_age_trestbps_plot   "
   ]
  },
  {
   "cell_type": "code",
   "execution_count": null,
   "id": "d8118457-87c8-4842-a275-9f447029ff14",
   "metadata": {
    "tags": []
   },
   "outputs": [],
   "source": [
    "all_temp_plot <- hd_age_trestbps |> \n",
    "   ggplot(aes(x = age, y = trestbps)) + \n",
    "   geom_point() + \n",
    "   facet_wrap(facets = vars(factor(heart_disease, levels = c(\"No\",\"Yes\")))) +\n",
    "   xlab('Age') + \n",
    "   ylab('Resting Blood Pressure') +\n",
    "   theme(text = element_text(size=20))\n",
    "\n",
    "all_temp_plot"
   ]
  },
  {
   "cell_type": "markdown",
   "id": "afd42b65-7c02-427c-b712-8e8945f642d2",
   "metadata": {},
   "source": [
    "## Methods\n",
    "For our Heart Disease data set, we are going to use the method of K-nearest neighbors classification. Essentially, we are going to use predictor variables chol (amount of cholesterol), thal (type of heart defect), age and sex to predict the diagnosis class of heart disease, which can be categorized into 0 (no heart disease) or 1 (heart disease). Therefore, the column names we will incorporate are chol, thal, age, sex and target. We chose to only use four predictor variables because we think that there are more than two factors that contribute to the diagnosis of heart disease. Since there are multivariables, we can avoid a 4D graph by using the facet_grid function to create a plot that has multiple subplots arranged in a grid."
   ]
  },
  {
   "cell_type": "markdown",
   "id": "e6578bf0-064d-48cf-aeab-ef517fdfc9ed",
   "metadata": {},
   "source": [
    "## Expected outcomes and significance\n",
    "\n",
    "\n",
    "What do you expect to find?\n",
    "\n",
    "We expect to identify the most relevant features that contribute to the presence or absence of heart disease.We also look for patterns and correlations within the data.\n",
    "\n",
    "What impact could such findings have?\n",
    "\n",
    "Understanding the factors that contribute to heart disease can inform public health initiatives.Furthermore, discoveries from this dataset can enhance healthcare by improving diagnostic tools and predictive models for heart disease, potentially leading to early detection and treatment.\n",
    "\n",
    "What future questions could this lead to?\n",
    "\n",
    "Are there additional attributes that should be considered, or are there redundant variables that can be eliminated to improve model performance?\n",
    "\n"
   ]
  },
  {
   "cell_type": "code",
   "execution_count": null,
   "id": "e243cd55-2691-4312-8181-c96d56268ab8",
   "metadata": {
    "tags": []
   },
   "outputs": [],
   "source": [
    "set.seed(9999) \n",
    "heart_disease_recipe <- recipe(heart_disease ~ age + chol + thalach + trestbps,data = heart_disease_selected) |>\n",
    "                       step_scale(all_predictors()) |>\n",
    "                       step_center(all_predictors())\n",
    "                        \n",
    "heart_disease_scaled <- heart_disease_recipe |>  \n",
    "                           prep() |> \n",
    "                           bake(heart_disease_selected)\n",
    "heart_disease_scaled"
   ]
  },
  {
   "cell_type": "code",
   "execution_count": null,
   "id": "4fa449f3-346b-4ba0-b654-d7afd3325162",
   "metadata": {},
   "outputs": [],
   "source": [
    "options(repr.plot.width = 5, repr.plot.height = 5)\n",
    "\n",
    "\n",
    "heart_disease_chol_plot<-ggplot(heart_disease_scaled,aes(x=age,y=chol,color=heart_disease))+\n",
    "geom_point(alpha=0.3)+\n",
    "labs(x=\"age\",\n",
    "               y=\"Cholesterol(mg/dl)\",\n",
    "               colour=\"Heart Disease\")\n",
    "\n",
    "\n",
    "heart_disease_chol_plot\n",
    "\n",
    "heart_disease_maxheart_plot<-ggplot(heart_disease_scaled,aes(x=age,y=thalach,color=heart_disease))+\n",
    "geom_point(alpha=0.3)+\n",
    "labs(x=\"age\",\n",
    "               y=\"Max Heart Rate (bpm)\",\n",
    "               colour=\"Heart Disease\")\n",
    "\n",
    "\n",
    "heart_disease_maxheart_plot\n",
    "\n",
    "heart_disease_rbp_plot<-ggplot(heart_disease_scaled,aes(x=age,y=trestbps,color=heart_disease))+\n",
    "geom_point(alpha=0.3)+\n",
    "labs(x=\"age\",\n",
    "               y=\"Resting Blood Pressure(mm/Hg)\",\n",
    "               colour=\"Heart Disease\")\n",
    "\n",
    "\n",
    "heart_disease_rbp_plot"
   ]
  },
  {
   "cell_type": "code",
   "execution_count": null,
   "id": "6746642f-8308-49ad-861a-582e87781663",
   "metadata": {},
   "outputs": [],
   "source": []
  }
 ],
 "metadata": {
  "kernelspec": {
   "display_name": "R",
   "language": "R",
   "name": "ir"
  },
  "language_info": {
   "codemirror_mode": "r",
   "file_extension": ".r",
   "mimetype": "text/x-r-source",
   "name": "R",
   "pygments_lexer": "r",
   "version": "4.2.2"
  }
 },
 "nbformat": 4,
 "nbformat_minor": 5
}
