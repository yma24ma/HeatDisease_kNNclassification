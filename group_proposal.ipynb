{
 "cells": [
  {
   "cell_type": "markdown",
   "id": "cc098e26-f3bd-4d4b-9ca8-e5071d472fca",
   "metadata": {},
   "source": [
    "# Data Analysis on Heart Disease"
   ]
  },
  {
   "cell_type": "markdown",
   "id": "75587974-896b-4c03-9bda-8640032b350f",
   "metadata": {},
   "source": [
    "## Introduction\n",
    "Heart diseases are one of the leading causes of death in the world including the United States for many years. With the increasing rate of cases for heart diseases worldwide, it is important to focus at the leading causes of this disease and establish a relationship between these vicious disease. As a base for our analysis we are going to use the heart disease dataset available at Kaggle. \n",
    "(https://www.kaggle.com/datasets/johnsmith88/heart-disease-dataset/data)\n",
    "\n",
    "This is the cleaned version of the data set given in Canvas -> group_project_proposal\n",
    "\n",
    "\n",
    "The dataset originates from 1988 and evaluates data from four different databases: Cleveland, Hungary, Switzerland and Long Beach V. While the dataset does have 76 distinct attributes, it only utilizes 14 of them. In our group project, we chose to focus on the variables age, resting blood pressure, cholesterol, and  maximum heart rate and compere it to the diagnosis of heart disease. We chose this variables since according to National Center for Chronic Disease Prevention and Health Promotion (NCCDPHP) it is considered one of the leading reason of causing the heart disease. We will be comparing the numerical variables by the categorical variables (2 cases) “0” and “1” which shows the diagnosis of heart diseases. \n",
    "\n",
    "From thee following informations, we will be attempting to answer the following predictive question. \n",
    "\n",
    "**Predictive question:**\n",
    "How does the amount of cholesterol, type of heart defect, age, and sex help us predict the diagnosis of heart disease?\n",
    "\n",
    "We will be conducting a KNN classification in order to answer the predictive question."
   ]
  },
  {
   "cell_type": "code",
   "execution_count": 6,
   "id": "cfc11267-fb04-4cf6-8688-81749e31c029",
   "metadata": {
    "tags": [],
    "vscode": {
     "languageId": "r"
    }
   },
   "outputs": [
    {
     "name": "stderr",
     "output_type": "stream",
     "text": [
      "Updating HTML index of packages in '.Library'\n",
      "\n",
      "Making 'packages.html' ...\n",
      " done\n",
      "\n"
     ]
    }
   ],
   "source": [
    "### Run this cell before continuing.\n",
    "install.packages(\"kknn\")\n",
    "library(kknn)\n",
    "library(repr)\n",
    "library(tidyverse)\n",
    "library(tidymodels)\n",
    "library(dplyr)\n",
    "library(ggplot2)\n",
    "options(repr.matrix.max.rows = 10)"
   ]
  },
  {
   "cell_type": "markdown",
   "id": "caac711a-783d-4ce3-ab5a-7857e74d8953",
   "metadata": {},
   "source": [
    "### Reading the Data\n",
    "\n",
    "First read the raw data from GitHub that we uploaded."
   ]
  },
  {
   "cell_type": "code",
   "execution_count": 7,
   "id": "0fef424f-ebfe-4384-9d71-d2a4aa5a473b",
   "metadata": {
    "tags": [],
    "vscode": {
     "languageId": "r"
    }
   },
   "outputs": [
    {
     "name": "stderr",
     "output_type": "stream",
     "text": [
      "\u001b[1mRows: \u001b[22m\u001b[34m1025\u001b[39m \u001b[1mColumns: \u001b[22m\u001b[34m14\u001b[39m\n",
      "\u001b[36m──\u001b[39m \u001b[1mColumn specification\u001b[22m \u001b[36m────────────────────────────────────────────────────────\u001b[39m\n",
      "\u001b[1mDelimiter:\u001b[22m \",\"\n",
      "\u001b[32mdbl\u001b[39m (14): age, sex, cp, trestbps, chol, fbs, restecg, thalach, exang, oldpea...\n",
      "\n",
      "\u001b[36mℹ\u001b[39m Use `spec()` to retrieve the full column specification for this data.\n",
      "\u001b[36mℹ\u001b[39m Specify the column types or set `show_col_types = FALSE` to quiet this message.\n"
     ]
    },
    {
     "data": {
      "text/html": [
       "<table class=\"dataframe\">\n",
       "<caption>A spec_tbl_df: 1025 × 14</caption>\n",
       "<thead>\n",
       "\t<tr><th scope=col>age</th><th scope=col>sex</th><th scope=col>cp</th><th scope=col>trestbps</th><th scope=col>chol</th><th scope=col>fbs</th><th scope=col>restecg</th><th scope=col>thalach</th><th scope=col>exang</th><th scope=col>oldpeak</th><th scope=col>slope</th><th scope=col>ca</th><th scope=col>thal</th><th scope=col>target</th></tr>\n",
       "\t<tr><th scope=col>&lt;dbl&gt;</th><th scope=col>&lt;dbl&gt;</th><th scope=col>&lt;dbl&gt;</th><th scope=col>&lt;dbl&gt;</th><th scope=col>&lt;dbl&gt;</th><th scope=col>&lt;dbl&gt;</th><th scope=col>&lt;dbl&gt;</th><th scope=col>&lt;dbl&gt;</th><th scope=col>&lt;dbl&gt;</th><th scope=col>&lt;dbl&gt;</th><th scope=col>&lt;dbl&gt;</th><th scope=col>&lt;dbl&gt;</th><th scope=col>&lt;dbl&gt;</th><th scope=col>&lt;dbl&gt;</th></tr>\n",
       "</thead>\n",
       "<tbody>\n",
       "\t<tr><td>52</td><td>1</td><td>0</td><td>125</td><td>212</td><td>0</td><td>1</td><td>168</td><td>0</td><td>1.0</td><td>2</td><td>2</td><td>3</td><td>0</td></tr>\n",
       "\t<tr><td>53</td><td>1</td><td>0</td><td>140</td><td>203</td><td>1</td><td>0</td><td>155</td><td>1</td><td>3.1</td><td>0</td><td>0</td><td>3</td><td>0</td></tr>\n",
       "\t<tr><td>70</td><td>1</td><td>0</td><td>145</td><td>174</td><td>0</td><td>1</td><td>125</td><td>1</td><td>2.6</td><td>0</td><td>0</td><td>3</td><td>0</td></tr>\n",
       "\t<tr><td>61</td><td>1</td><td>0</td><td>148</td><td>203</td><td>0</td><td>1</td><td>161</td><td>0</td><td>0.0</td><td>2</td><td>1</td><td>3</td><td>0</td></tr>\n",
       "\t<tr><td>62</td><td>0</td><td>0</td><td>138</td><td>294</td><td>1</td><td>1</td><td>106</td><td>0</td><td>1.9</td><td>1</td><td>3</td><td>2</td><td>0</td></tr>\n",
       "\t<tr><td>⋮</td><td>⋮</td><td>⋮</td><td>⋮</td><td>⋮</td><td>⋮</td><td>⋮</td><td>⋮</td><td>⋮</td><td>⋮</td><td>⋮</td><td>⋮</td><td>⋮</td><td>⋮</td></tr>\n",
       "\t<tr><td>59</td><td>1</td><td>1</td><td>140</td><td>221</td><td>0</td><td>1</td><td>164</td><td>1</td><td>0.0</td><td>2</td><td>0</td><td>2</td><td>1</td></tr>\n",
       "\t<tr><td>60</td><td>1</td><td>0</td><td>125</td><td>258</td><td>0</td><td>0</td><td>141</td><td>1</td><td>2.8</td><td>1</td><td>1</td><td>3</td><td>0</td></tr>\n",
       "\t<tr><td>47</td><td>1</td><td>0</td><td>110</td><td>275</td><td>0</td><td>0</td><td>118</td><td>1</td><td>1.0</td><td>1</td><td>1</td><td>2</td><td>0</td></tr>\n",
       "\t<tr><td>50</td><td>0</td><td>0</td><td>110</td><td>254</td><td>0</td><td>0</td><td>159</td><td>0</td><td>0.0</td><td>2</td><td>0</td><td>2</td><td>1</td></tr>\n",
       "\t<tr><td>54</td><td>1</td><td>0</td><td>120</td><td>188</td><td>0</td><td>1</td><td>113</td><td>0</td><td>1.4</td><td>1</td><td>1</td><td>3</td><td>0</td></tr>\n",
       "</tbody>\n",
       "</table>\n"
      ],
      "text/latex": [
       "A spec\\_tbl\\_df: 1025 × 14\n",
       "\\begin{tabular}{llllllllllllll}\n",
       " age & sex & cp & trestbps & chol & fbs & restecg & thalach & exang & oldpeak & slope & ca & thal & target\\\\\n",
       " <dbl> & <dbl> & <dbl> & <dbl> & <dbl> & <dbl> & <dbl> & <dbl> & <dbl> & <dbl> & <dbl> & <dbl> & <dbl> & <dbl>\\\\\n",
       "\\hline\n",
       "\t 52 & 1 & 0 & 125 & 212 & 0 & 1 & 168 & 0 & 1.0 & 2 & 2 & 3 & 0\\\\\n",
       "\t 53 & 1 & 0 & 140 & 203 & 1 & 0 & 155 & 1 & 3.1 & 0 & 0 & 3 & 0\\\\\n",
       "\t 70 & 1 & 0 & 145 & 174 & 0 & 1 & 125 & 1 & 2.6 & 0 & 0 & 3 & 0\\\\\n",
       "\t 61 & 1 & 0 & 148 & 203 & 0 & 1 & 161 & 0 & 0.0 & 2 & 1 & 3 & 0\\\\\n",
       "\t 62 & 0 & 0 & 138 & 294 & 1 & 1 & 106 & 0 & 1.9 & 1 & 3 & 2 & 0\\\\\n",
       "\t ⋮ & ⋮ & ⋮ & ⋮ & ⋮ & ⋮ & ⋮ & ⋮ & ⋮ & ⋮ & ⋮ & ⋮ & ⋮ & ⋮\\\\\n",
       "\t 59 & 1 & 1 & 140 & 221 & 0 & 1 & 164 & 1 & 0.0 & 2 & 0 & 2 & 1\\\\\n",
       "\t 60 & 1 & 0 & 125 & 258 & 0 & 0 & 141 & 1 & 2.8 & 1 & 1 & 3 & 0\\\\\n",
       "\t 47 & 1 & 0 & 110 & 275 & 0 & 0 & 118 & 1 & 1.0 & 1 & 1 & 2 & 0\\\\\n",
       "\t 50 & 0 & 0 & 110 & 254 & 0 & 0 & 159 & 0 & 0.0 & 2 & 0 & 2 & 1\\\\\n",
       "\t 54 & 1 & 0 & 120 & 188 & 0 & 1 & 113 & 0 & 1.4 & 1 & 1 & 3 & 0\\\\\n",
       "\\end{tabular}\n"
      ],
      "text/markdown": [
       "\n",
       "A spec_tbl_df: 1025 × 14\n",
       "\n",
       "| age &lt;dbl&gt; | sex &lt;dbl&gt; | cp &lt;dbl&gt; | trestbps &lt;dbl&gt; | chol &lt;dbl&gt; | fbs &lt;dbl&gt; | restecg &lt;dbl&gt; | thalach &lt;dbl&gt; | exang &lt;dbl&gt; | oldpeak &lt;dbl&gt; | slope &lt;dbl&gt; | ca &lt;dbl&gt; | thal &lt;dbl&gt; | target &lt;dbl&gt; |\n",
       "|---|---|---|---|---|---|---|---|---|---|---|---|---|---|\n",
       "| 52 | 1 | 0 | 125 | 212 | 0 | 1 | 168 | 0 | 1.0 | 2 | 2 | 3 | 0 |\n",
       "| 53 | 1 | 0 | 140 | 203 | 1 | 0 | 155 | 1 | 3.1 | 0 | 0 | 3 | 0 |\n",
       "| 70 | 1 | 0 | 145 | 174 | 0 | 1 | 125 | 1 | 2.6 | 0 | 0 | 3 | 0 |\n",
       "| 61 | 1 | 0 | 148 | 203 | 0 | 1 | 161 | 0 | 0.0 | 2 | 1 | 3 | 0 |\n",
       "| 62 | 0 | 0 | 138 | 294 | 1 | 1 | 106 | 0 | 1.9 | 1 | 3 | 2 | 0 |\n",
       "| ⋮ | ⋮ | ⋮ | ⋮ | ⋮ | ⋮ | ⋮ | ⋮ | ⋮ | ⋮ | ⋮ | ⋮ | ⋮ | ⋮ |\n",
       "| 59 | 1 | 1 | 140 | 221 | 0 | 1 | 164 | 1 | 0.0 | 2 | 0 | 2 | 1 |\n",
       "| 60 | 1 | 0 | 125 | 258 | 0 | 0 | 141 | 1 | 2.8 | 1 | 1 | 3 | 0 |\n",
       "| 47 | 1 | 0 | 110 | 275 | 0 | 0 | 118 | 1 | 1.0 | 1 | 1 | 2 | 0 |\n",
       "| 50 | 0 | 0 | 110 | 254 | 0 | 0 | 159 | 0 | 0.0 | 2 | 0 | 2 | 1 |\n",
       "| 54 | 1 | 0 | 120 | 188 | 0 | 1 | 113 | 0 | 1.4 | 1 | 1 | 3 | 0 |\n",
       "\n"
      ],
      "text/plain": [
       "     age sex cp trestbps chol fbs restecg thalach exang oldpeak slope ca thal\n",
       "1    52  1   0  125      212  0   1       168     0     1.0     2     2  3   \n",
       "2    53  1   0  140      203  1   0       155     1     3.1     0     0  3   \n",
       "3    70  1   0  145      174  0   1       125     1     2.6     0     0  3   \n",
       "4    61  1   0  148      203  0   1       161     0     0.0     2     1  3   \n",
       "5    62  0   0  138      294  1   1       106     0     1.9     1     3  2   \n",
       "⋮    ⋮   ⋮   ⋮  ⋮        ⋮    ⋮   ⋮       ⋮       ⋮     ⋮       ⋮     ⋮  ⋮   \n",
       "1021 59  1   1  140      221  0   1       164     1     0.0     2     0  2   \n",
       "1022 60  1   0  125      258  0   0       141     1     2.8     1     1  3   \n",
       "1023 47  1   0  110      275  0   0       118     1     1.0     1     1  2   \n",
       "1024 50  0   0  110      254  0   0       159     0     0.0     2     0  2   \n",
       "1025 54  1   0  120      188  0   1       113     0     1.4     1     1  3   \n",
       "     target\n",
       "1    0     \n",
       "2    0     \n",
       "3    0     \n",
       "4    0     \n",
       "5    0     \n",
       "⋮    ⋮     \n",
       "1021 1     \n",
       "1022 0     \n",
       "1023 0     \n",
       "1024 1     \n",
       "1025 0     "
      ]
     },
     "metadata": {},
     "output_type": "display_data"
    }
   ],
   "source": [
    "heart_disease_data <- read_csv(\"https://raw.githubusercontent.com/yma24ma/dsci_009_43_gp/main/heart.csv\")\n",
    "heart_disease_data"
   ]
  },
  {
   "cell_type": "markdown",
   "id": "feb6acd4-1eb5-4b29-88e3-a64333cbc958",
   "metadata": {},
   "source": [
    "**Variables**\n",
    "\n",
    "age: Age\n",
    "\n",
    "sex: Sex\n",
    "\n",
    "cp: Chest pain type (4 values)\n",
    "\n",
    "trestbps: resting blood pressure\n",
    "\n",
    "chol: serum cholestoral in mg/dl\n",
    "\n",
    "fbs: fasting blood sugar > 120 mg/dl\n",
    "\n",
    "restecg: resting electrocardiographic results (values 0,1,2)\n",
    "\n",
    "thalacg: maximum heart rate achieved\n",
    "\n",
    "exang: exercise induced angina\n",
    "\n",
    "oldpeak: ST depression induced by exercise relative to rest\n",
    "\n",
    "slope: the slope of the peak exercise ST segment\n",
    "\n",
    "ca: number of major vessels (0-3) colored by flourosopy\n",
    "\n",
    "thal: 0 = normal; 1 = fixed defect; 2 = reversable defect\n",
    "\n",
    "target: diagnosis of heart disease"
   ]
  },
  {
   "cell_type": "markdown",
   "id": "990e28cc-1d6b-4324-90df-2b0b4c8a678f",
   "metadata": {
    "tags": []
   },
   "source": [
    "**Select Data**\n",
    "\n",
    "We will now be using the `select()` function to select the row that we will be using in this analysis and make it into one table."
   ]
  },
  {
   "cell_type": "code",
   "execution_count": 8,
   "id": "08132990-7890-4e79-8a53-f1a7c701c5c2",
   "metadata": {
    "tags": [],
    "vscode": {
     "languageId": "r"
    }
   },
   "outputs": [
    {
     "data": {
      "text/html": [
       "<table class=\"dataframe\">\n",
       "<caption>A tibble: 1025 × 6</caption>\n",
       "<thead>\n",
       "\t<tr><th scope=col>age</th><th scope=col>chol</th><th scope=col>target</th><th scope=col>thalach</th><th scope=col>trestbps</th><th scope=col>heart_disease</th></tr>\n",
       "\t<tr><th scope=col>&lt;dbl&gt;</th><th scope=col>&lt;dbl&gt;</th><th scope=col>&lt;fct&gt;</th><th scope=col>&lt;dbl&gt;</th><th scope=col>&lt;dbl&gt;</th><th scope=col>&lt;fct&gt;</th></tr>\n",
       "</thead>\n",
       "<tbody>\n",
       "\t<tr><td>52</td><td>212</td><td>0</td><td>168</td><td>125</td><td>No </td></tr>\n",
       "\t<tr><td>53</td><td>203</td><td>0</td><td>155</td><td>140</td><td>No </td></tr>\n",
       "\t<tr><td>70</td><td>174</td><td>0</td><td>125</td><td>145</td><td>No </td></tr>\n",
       "\t<tr><td>61</td><td>203</td><td>0</td><td>161</td><td>148</td><td>No </td></tr>\n",
       "\t<tr><td>62</td><td>294</td><td>0</td><td>106</td><td>138</td><td>No </td></tr>\n",
       "\t<tr><td>⋮</td><td>⋮</td><td>⋮</td><td>⋮</td><td>⋮</td><td>⋮</td></tr>\n",
       "\t<tr><td>59</td><td>221</td><td>1</td><td>164</td><td>140</td><td>Yes</td></tr>\n",
       "\t<tr><td>60</td><td>258</td><td>0</td><td>141</td><td>125</td><td>No </td></tr>\n",
       "\t<tr><td>47</td><td>275</td><td>0</td><td>118</td><td>110</td><td>No </td></tr>\n",
       "\t<tr><td>50</td><td>254</td><td>1</td><td>159</td><td>110</td><td>Yes</td></tr>\n",
       "\t<tr><td>54</td><td>188</td><td>0</td><td>113</td><td>120</td><td>No </td></tr>\n",
       "</tbody>\n",
       "</table>\n"
      ],
      "text/latex": [
       "A tibble: 1025 × 6\n",
       "\\begin{tabular}{llllll}\n",
       " age & chol & target & thalach & trestbps & heart\\_disease\\\\\n",
       " <dbl> & <dbl> & <fct> & <dbl> & <dbl> & <fct>\\\\\n",
       "\\hline\n",
       "\t 52 & 212 & 0 & 168 & 125 & No \\\\\n",
       "\t 53 & 203 & 0 & 155 & 140 & No \\\\\n",
       "\t 70 & 174 & 0 & 125 & 145 & No \\\\\n",
       "\t 61 & 203 & 0 & 161 & 148 & No \\\\\n",
       "\t 62 & 294 & 0 & 106 & 138 & No \\\\\n",
       "\t ⋮ & ⋮ & ⋮ & ⋮ & ⋮ & ⋮\\\\\n",
       "\t 59 & 221 & 1 & 164 & 140 & Yes\\\\\n",
       "\t 60 & 258 & 0 & 141 & 125 & No \\\\\n",
       "\t 47 & 275 & 0 & 118 & 110 & No \\\\\n",
       "\t 50 & 254 & 1 & 159 & 110 & Yes\\\\\n",
       "\t 54 & 188 & 0 & 113 & 120 & No \\\\\n",
       "\\end{tabular}\n"
      ],
      "text/markdown": [
       "\n",
       "A tibble: 1025 × 6\n",
       "\n",
       "| age &lt;dbl&gt; | chol &lt;dbl&gt; | target &lt;fct&gt; | thalach &lt;dbl&gt; | trestbps &lt;dbl&gt; | heart_disease &lt;fct&gt; |\n",
       "|---|---|---|---|---|---|\n",
       "| 52 | 212 | 0 | 168 | 125 | No  |\n",
       "| 53 | 203 | 0 | 155 | 140 | No  |\n",
       "| 70 | 174 | 0 | 125 | 145 | No  |\n",
       "| 61 | 203 | 0 | 161 | 148 | No  |\n",
       "| 62 | 294 | 0 | 106 | 138 | No  |\n",
       "| ⋮ | ⋮ | ⋮ | ⋮ | ⋮ | ⋮ |\n",
       "| 59 | 221 | 1 | 164 | 140 | Yes |\n",
       "| 60 | 258 | 0 | 141 | 125 | No  |\n",
       "| 47 | 275 | 0 | 118 | 110 | No  |\n",
       "| 50 | 254 | 1 | 159 | 110 | Yes |\n",
       "| 54 | 188 | 0 | 113 | 120 | No  |\n",
       "\n"
      ],
      "text/plain": [
       "     age chol target thalach trestbps heart_disease\n",
       "1    52  212  0      168     125      No           \n",
       "2    53  203  0      155     140      No           \n",
       "3    70  174  0      125     145      No           \n",
       "4    61  203  0      161     148      No           \n",
       "5    62  294  0      106     138      No           \n",
       "⋮    ⋮   ⋮    ⋮      ⋮       ⋮        ⋮            \n",
       "1021 59  221  1      164     140      Yes          \n",
       "1022 60  258  0      141     125      No           \n",
       "1023 47  275  0      118     110      No           \n",
       "1024 50  254  1      159     110      Yes          \n",
       "1025 54  188  0      113     120      No           "
      ]
     },
     "metadata": {},
     "output_type": "display_data"
    }
   ],
   "source": [
    "heart_disease_selected <- select(heart_disease_data, age, chol, target, thalach, trestbps)|>\n",
    "                        mutate(target=as_factor(target))|>\n",
    "                        mutate(heart_disease=fct_recode(target, \"Yes\" = \"1\", \"No \" = \"0\"))\n",
    "heart_disease_selected"
   ]
  },
  {
   "cell_type": "markdown",
   "id": "cd651956-add7-4567-b4cd-dc11eea4bb95",
   "metadata": {},
   "source": [
    "We use the sum function to check if there are any NA values in our data tables"
   ]
  },
  {
   "cell_type": "code",
   "execution_count": 9,
   "id": "0ec4d284-bbd8-4956-a86e-aed96bd46bbd",
   "metadata": {
    "tags": []
   },
   "outputs": [
    {
     "data": {
      "text/html": [
       "0"
      ],
      "text/latex": [
       "0"
      ],
      "text/markdown": [
       "0"
      ],
      "text/plain": [
       "[1] 0"
      ]
     },
     "metadata": {},
     "output_type": "display_data"
    }
   ],
   "source": [
    "sum(is.na(heart_disease_selected))"
   ]
  },
  {
   "cell_type": "markdown",
   "id": "3bdda5e1",
   "metadata": {},
   "source": [
    "**Average of Selected**"
   ]
  },
  {
   "cell_type": "code",
   "execution_count": null,
   "id": "7f262c96",
   "metadata": {
    "tags": [],
    "vscode": {
     "languageId": "r"
    }
   },
   "outputs": [],
   "source": [
    "hd_average1 <- heart_disease_selected |>\n",
    "                map(mean) \n",
    "hd_average1"
   ]
  },
  {
   "cell_type": "markdown",
   "id": "dd77f9c6",
   "metadata": {},
   "source": [
    "**Plot Sex X Target**"
   ]
  },
  {
   "cell_type": "code",
   "execution_count": null,
   "id": "22486562",
   "metadata": {
    "tags": [],
    "vscode": {
     "languageId": "r"
    }
   },
   "outputs": [],
   "source": [
    "hd_sex_target_df <- heart_disease_selected |>\n",
    "                        group_by(sex) |>\n",
    "                        summarize(average_target = mean(target))\n",
    "hd_sex_target_df"
   ]
  },
  {
   "cell_type": "code",
   "execution_count": null,
   "id": "f00a7be6-f265-47be-82e9-2446f61dd0e9",
   "metadata": {
    "tags": []
   },
   "outputs": [],
   "source": [
    "hd_age_chol<-select(heart_disease_selected,age,chol,trestbps,heart_disease)|>\n",
    "                mutate(heart_disease)\n",
    "hd_age_chol"
   ]
  },
  {
   "cell_type": "code",
   "execution_count": null,
   "id": "8ff4adb8-ce09-429f-b9d4-302b4e38a714",
   "metadata": {
    "tags": []
   },
   "outputs": [],
   "source": [
    "hd_age_chol_plot<-ggplot(hd_age_chol,aes(x=age,y=chol,colour=heart_disease))+\n",
    "                        geom_point(alpha=0.3)+\n",
    "                        labs(x=\"Age\",y=\"Cholesterol\",colour=\"Heart Disease\")+       \n",
    "                    ggtitle(\"Age vs Cholesterol Scatterplot\")\n",
    "hd_age_chol_plot   "
   ]
  },
  {
   "cell_type": "code",
   "execution_count": null,
   "id": "0863875c-f025-4af1-8c9b-a1b11966dd18",
   "metadata": {
    "tags": []
   },
   "outputs": [],
   "source": [
    "all_temp_plot <- hd_age_chol|> \n",
    "   ggplot(aes(x = age, y = chol)) + \n",
    "   geom_point() + \n",
    "   facet_wrap(facets = vars(factor(heart_disease, levels = c(\"No\",\"Yes\")))) +\n",
    "   xlab('Age') + \n",
    "   ylab('Cholesterol') +\n",
    "   theme(text = element_text(size=20))\n",
    "\n",
    "all_temp_plot"
   ]
  },
  {
   "cell_type": "code",
   "execution_count": null,
   "id": "1bd06fd6-e732-4579-8236-650032220054",
   "metadata": {
    "tags": []
   },
   "outputs": [],
   "source": [
    "hd_age_thalach<-select(heart_disease_selected,age,thalach,heart_disease)|>\n",
    "                mutate(heart_disease)\n",
    "hd_age_thalach"
   ]
  },
  {
   "cell_type": "code",
   "execution_count": null,
   "id": "60e2d398-be84-413b-be7b-52e6c702479d",
   "metadata": {
    "tags": []
   },
   "outputs": [],
   "source": [
    "hd_age_thalach_plot<-ggplot(hd_age_thalach,aes(x=age,y=thalach,colour=heart_disease))+\n",
    "                        geom_point(alpha=0.3)+\n",
    "                        labs(x=\"Age\",y=\"Maximum Heart Rate\",colour=\"Heart Disease\")+       \n",
    "                    ggtitle(\"Age vs Maximum Heart Rate Scatterplot\")\n",
    "hd_age_thalach_plot   "
   ]
  },
  {
   "cell_type": "code",
   "execution_count": null,
   "id": "a78a1eec-8b69-44ab-be39-dc9e30cc9b2e",
   "metadata": {
    "tags": []
   },
   "outputs": [],
   "source": [
    "all_temp_plot <- hd_age_thalach |> \n",
    "   ggplot(aes(x = age, y = thalach)) + \n",
    "   geom_point() + \n",
    "   facet_wrap(facets = vars(factor(heart_disease, levels = c(\"No\",\"Yes\")))) +\n",
    "   xlab('Age') + \n",
    "   ylab('Maximum heat rate') +\n",
    "   theme(text = element_text(size=20))\n",
    "\n",
    "all_temp_plot"
   ]
  },
  {
   "cell_type": "code",
   "execution_count": null,
   "id": "64593b27-c0d4-480c-ab67-54c2e6652009",
   "metadata": {
    "tags": []
   },
   "outputs": [],
   "source": [
    "hd_age_trestbps<-select(heart_disease_selected,age,trestbps,heart_disease)|>\n",
    "                mutate(heart_disease)\n",
    "hd_age_trestbps"
   ]
  },
  {
   "cell_type": "code",
   "execution_count": null,
   "id": "c1eca26a-0a16-4a7e-93ac-7217932647bb",
   "metadata": {
    "tags": []
   },
   "outputs": [],
   "source": [
    "hd_age_trestbps_plot<-ggplot(hd_age_trestbps,aes(x=age,y=trestbps,colour=heart_disease))+\n",
    "                        geom_point(alpha=0.3)+\n",
    "                        labs(x=\"Age\",y=\"Resting Blood Pressure(mm/Hg)\",colour=\"Heart Disease\")+       \n",
    "                    ggtitle(\"Age vs Resting Blood Pressure Scatterplot\")\n",
    "hd_age_trestbps_plot   "
   ]
  },
  {
   "cell_type": "code",
   "execution_count": null,
   "id": "d8118457-87c8-4842-a275-9f447029ff14",
   "metadata": {
    "tags": []
   },
   "outputs": [],
   "source": [
    "all_temp_plot <- hd_age_trestbps |> \n",
    "   ggplot(aes(x = age, y = trestbps)) + \n",
    "   geom_point() + \n",
    "   facet_wrap(facets = vars(factor(heart_disease, levels = c(\"No\",\"Yes\")))) +\n",
    "   xlab('Age') + \n",
    "   ylab('Resting Blood Pressure') +\n",
    "   theme(text = element_text(size=20))\n",
    "\n",
    "all_temp_plot"
   ]
  },
  {
   "cell_type": "markdown",
   "id": "afd42b65-7c02-427c-b712-8e8945f642d2",
   "metadata": {},
   "source": [
    "## Methods\n",
    "For our Heart Disease data set, we are going to use the method of K-nearest neighbors classification. Essentially, we are going to use predictor variables chol (amount of cholesterol), thal (type of heart defect), age and sex to predict the diagnosis class of heart disease, which can be categorized into 0 (no heart disease) or 1 (heart disease). Therefore, the column names we will incorporate are chol, thal, age, sex and target. We chose to only use four predictor variables because we think that there are more than two factors that contribute to the diagnosis of heart disease. Since there are multivariables, we can avoid a 4D graph by using the facet_grid function to create a plot that has multiple subplots arranged in a grid."
   ]
  },
  {
   "cell_type": "markdown",
   "id": "e6578bf0-064d-48cf-aeab-ef517fdfc9ed",
   "metadata": {},
   "source": [
    "## Expected outcomes and significance\n",
    "\n",
    "\n",
    "What do you expect to find?\n",
    "\n",
    "We expect to identify the most relevant features that contribute to the presence or absence of heart disease.We also look for patterns and correlations within the data.\n",
    "\n",
    "What impact could such findings have?\n",
    "\n",
    "Understanding the factors that contribute to heart disease can inform public health initiatives.Furthermore, discoveries from this dataset can enhance healthcare by improving diagnostic tools and predictive models for heart disease, potentially leading to early detection and treatment.\n",
    "\n",
    "What future questions could this lead to?\n",
    "\n",
    "Are there additional attributes that should be considered, or are there redundant variables that can be eliminated to improve model performance?\n",
    "\n"
   ]
  },
  {
   "cell_type": "code",
   "execution_count": null,
   "id": "e243cd55-2691-4312-8181-c96d56268ab8",
   "metadata": {
    "tags": []
   },
   "outputs": [],
   "source": [
    "set.seed(9999) \n",
    "heart_disease_recipe <- recipe(heart_disease ~ age + chol + thalach + trestbps,data = heart_disease_selected) |>\n",
    "                       step_scale(all_predictors()) |>\n",
    "                       step_center(all_predictors())\n",
    "                        \n",
    "heart_disease_scaled <- heart_disease_recipe |>  \n",
    "                           prep() |> \n",
    "                           bake(heart_disease_selected)\n",
    "heart_disease_scaled"
   ]
  },
  {
   "cell_type": "code",
   "execution_count": null,
   "id": "4fa449f3-346b-4ba0-b654-d7afd3325162",
   "metadata": {},
   "outputs": [],
   "source": [
    "options(repr.plot.width = 5, repr.plot.height = 5)\n",
    "\n",
    "\n",
    "heart_disease_chol_plot<-ggplot(heart_disease_scaled,aes(x=age,y=chol,color=heart_disease))+\n",
    "geom_point(alpha=0.3)+\n",
    "labs(x=\"age\",\n",
    "               y=\"Cholesterol(mg/dl)\",\n",
    "               colour=\"Heart Disease\")\n",
    "\n",
    "\n",
    "heart_disease_chol_plot\n",
    "\n",
    "heart_disease_maxheart_plot<-ggplot(heart_disease_scaled,aes(x=age,y=thalach,color=heart_disease))+\n",
    "geom_point(alpha=0.3)+\n",
    "labs(x=\"age\",\n",
    "               y=\"Max Heart Rate (bpm)\",\n",
    "               colour=\"Heart Disease\")\n",
    "\n",
    "\n",
    "heart_disease_maxheart_plot\n",
    "\n",
    "heart_disease_rbp_plot<-ggplot(heart_disease_scaled,aes(x=age,y=trestbps,color=heart_disease))+\n",
    "geom_point(alpha=0.3)+\n",
    "labs(x=\"age\",\n",
    "               y=\"Resting Blood Pressure(mm/Hg)\",\n",
    "               colour=\"Heart Disease\")\n",
    "\n",
    "\n",
    "heart_disease_rbp_plot"
   ]
  },
  {
   "cell_type": "code",
   "execution_count": null,
   "id": "6746642f-8308-49ad-861a-582e87781663",
   "metadata": {},
   "outputs": [],
   "source": []
  }
 ],
 "metadata": {
  "kernelspec": {
   "display_name": "R",
   "language": "R",
   "name": "ir"
  },
  "language_info": {
   "codemirror_mode": "r",
   "file_extension": ".r",
   "mimetype": "text/x-r-source",
   "name": "R",
   "pygments_lexer": "r",
   "version": "4.2.2"
  }
 },
 "nbformat": 4,
 "nbformat_minor": 5
}
