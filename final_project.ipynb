{
 "cells": [
  {
   "cell_type": "markdown",
   "id": "cc098e26-f3bd-4d4b-9ca8-e5071d472fca",
   "metadata": {},
   "source": [
    "# Data Analysis on Heart Disease\n",
    "**DSCI 100 009 Group 43 Group Project**\n",
    "\n",
    "Yuki Matsushima, Vitor Wakamatsu, Pei Yi Chew, Henry Yang"
   ]
  },
  {
   "cell_type": "markdown",
   "id": "75587974-896b-4c03-9bda-8640032b350f",
   "metadata": {},
   "source": [
    "## Introduction\n",
    "Heart diseases are one of the leading causes of death in the world including the United States for many years. With the increasing rate of cases for heart diseases worldwide, it is important to focus at the leading causes of this disease and establish a relationship between these vicious disease. As a base for our analysis we are going to use the heart disease dataset available at Kaggle. \n",
    "(https://www.kaggle.com/datasets/johnsmith88/heart-disease-dataset/data)\n",
    "\n",
    "This is the cleaned version of the data set given in Canvas -> group_project_proposal\n",
    "\n",
    "\n",
    "The dataset originates from 1988 and evaluates data from four different databases: Cleveland, Hungary, Switzerland and Long Beach V. While the dataset does have 76 distinct attributes, it only utilizes 14 of them. In our group project, we chose to focus on the variables age, resting blood pressure, cholesterol, and  maximum heart rate and compere it to the diagnosis of heart disease. We chose this variables since according to National Center for Chronic Disease Prevention and Health Promotion (NCCDPHP) it is considered one of the leading reason of causing the heart disease. We will be comparing the numerical variables by the categorical variables (2 cases) “0” and “1” which shows the diagnosis of heart diseases. \n",
    "\n",
    "From these following informations, we will be attempting to answer the following predictive question. \n",
    "\n",
    "**Predictive question:**\n",
    "How does the amount of cholesterol, type of heart defect, age, and sex help us predict the diagnosis of heart disease?\n",
    "\n",
    "We will be conducting a KNN classification in order to answer the predictive question."
   ]
  },
  {
   "cell_type": "code",
   "execution_count": null,
   "id": "cfc11267-fb04-4cf6-8688-81749e31c029",
   "metadata": {
    "tags": [],
    "vscode": {
     "languageId": "r"
    }
   },
   "outputs": [],
   "source": [
    "### Run this cell before continuing.\n",
    "install.packages(\"kknn\")\n",
    "library(kknn)\n",
    "library(repr)\n",
    "library(tidyverse)\n",
    "library(tidymodels)\n",
    "library(dplyr)\n",
    "library(ggplot2)\n",
    "options(repr.matrix.max.rows = 10)\n",
    "install.packages(\"gridExtra\")\n",
    "library(gridExtra)"
   ]
  },
  {
   "cell_type": "markdown",
   "id": "caac711a-783d-4ce3-ab5a-7857e74d8953",
   "metadata": {},
   "source": [
    "## Reading the Data\n",
    "\n",
    "First read the raw data from GitHub that we uploaded using the `read` function.\n",
    "\n",
    "\n",
    "**Variables**\n",
    "\n",
    "age: Age\n",
    "\n",
    "sex: Sex\n",
    "\n",
    "cp: Chest pain type (4 values)\n",
    "\n",
    "trestbps: Resting blood pressure\n",
    "\n",
    "chol: Serum cholesterol in mg/dl\n",
    "\n",
    "fbs: Fasting blood sugar > 120 mg/dl\n",
    "\n",
    "restecg: Resting electrocardiographic results (values 0,1,2)\n",
    "\n",
    "thalacg: Maximum heart rate achieved\n",
    "\n",
    "exang: Exercise induced angina\n",
    "\n",
    "oldpeak: ST Depression induced by exercise relative to rest\n",
    "\n",
    "slope: Slope of the peak exercise ST segment\n",
    "\n",
    "ca: Number of major vessels (0-3) colored by fluoroscopy\n",
    "\n",
    "thal: Type of hear disease; 0 = normal; 1 = fixed defect; 2 = reversable defect\n",
    "\n",
    "target: Diagnosis of heart disease"
   ]
  },
  {
   "cell_type": "code",
   "execution_count": null,
   "id": "0fef424f-ebfe-4384-9d71-d2a4aa5a473b",
   "metadata": {
    "tags": [],
    "vscode": {
     "languageId": "r"
    }
   },
   "outputs": [],
   "source": [
    "heart_disease_data <- read_csv(\"https://raw.githubusercontent.com/yma24ma/dsci_009_43_gp/main/heart.csv\")\n",
    "heart_disease_data"
   ]
  },
  {
   "cell_type": "markdown",
   "id": "990e28cc-1d6b-4324-90df-2b0b4c8a678f",
   "metadata": {
    "tags": []
   },
   "source": [
    "**Select Data**\n",
    "\n",
    "We will now be using the `select()` function to select the row that we will be using in this analysis and make it into one table. Then we will `mutate()` the variable `target` in to \"yes\" and \"no\" in order to make the `target` variable more interpretable and human readable value. "
   ]
  },
  {
   "cell_type": "code",
   "execution_count": null,
   "id": "08132990-7890-4e79-8a53-f1a7c701c5c2",
   "metadata": {
    "tags": [],
    "vscode": {
     "languageId": "r"
    }
   },
   "outputs": [],
   "source": [
    "heart_disease_selected <- select(heart_disease_data, age, chol, target, thalach, trestbps)|>\n",
    "                          mutate(target=as_factor(target))|>\n",
    "                          mutate(heart_disease=fct_recode(target, \"Yes\" = \"1\", \"No \" = \"0\"))\n",
    "heart_disease_selected"
   ]
  },
  {
   "cell_type": "markdown",
   "id": "784945f6-83f5-4ffa-83e9-9631e4a14ef6",
   "metadata": {},
   "source": [
    "## Analyzing Data"
   ]
  },
  {
   "cell_type": "markdown",
   "id": "cd651956-add7-4567-b4cd-dc11eea4bb95",
   "metadata": {},
   "source": [
    "**NA Values**\n",
    "\n",
    "We use the `is.na()` function to check if there are any NA values in our data tables, and use `sum()` function to sum up the whole NA values that was counted. We are doing this since there may be a chance that there are too many NA values in order to conduct an analysis on these variables."
   ]
  },
  {
   "cell_type": "code",
   "execution_count": null,
   "id": "0ec4d284-bbd8-4956-a86e-aed96bd46bbd",
   "metadata": {
    "tags": [],
    "vscode": {
     "languageId": "r"
    }
   },
   "outputs": [],
   "source": [
    "sum(is.na(heart_disease_selected))"
   ]
  },
  {
   "cell_type": "markdown",
   "id": "35a00bce-3707-401d-a537-64b5e4f0411b",
   "metadata": {},
   "source": [
    "Since there are no NA values, it is suitable to use these variables for our project."
   ]
  },
  {
   "cell_type": "markdown",
   "id": "3994c102-c5ac-4c03-88e5-22f4d5b1118b",
   "metadata": {},
   "source": [
    "**Summary Table**\n",
    "\n",
    "For our summary table, we will summarize the minimum value, 1st quartile, median, 3rd quartile, maximum value, and the standard deviation."
   ]
  },
  {
   "cell_type": "code",
   "execution_count": null,
   "id": "3ac05451-2a44-4abe-abca-b1cd597314de",
   "metadata": {
    "tags": []
   },
   "outputs": [],
   "source": [
    "summary_table <- data.frame(Variable = c(\"Age\", \"trestbps\", \"thalach\", \"chol\"),\n",
    "Mean = c(mean(heart_disease_selected$age),\n",
    "        mean(heart_disease_selected$trestbps),\n",
    "        mean(heart_disease_selected$thalach),\n",
    "        mean(heart_disease_selected$chol)),\n",
    "Median = c(median(heart_disease_selected$age),\n",
    "         median(heart_disease_selected$trestbps),\n",
    "         median(heart_disease_selected$thalach),\n",
    "         median(heart_disease_selected$chol)),\n",
    "SD = c(sd(heart_disease_selected$age),\n",
    "     sd(heart_disease_selected$trestbps),\n",
    "     sd(heart_disease_selected$thalach),\n",
    "     sd(heart_disease_selected$chol)),\n",
    "Min = c(min(heart_disease_selected$age),\n",
    "      min(heart_disease_selected$trestbps),\n",
    "      min(heart_disease_selected$thalach),\n",
    "      min(heart_disease_selected$chol)),\n",
    "Max = c(max(heart_disease_selected$age),\n",
    "      max(heart_disease_selected$trestbps),\n",
    "      max(heart_disease_selected$thalach),\n",
    "      max(heart_disease_selected$chol)))\n",
    "\n",
    "print(summary_table)"
   ]
  },
  {
   "cell_type": "markdown",
   "id": "5d95f29a-eed1-4b1e-b2a4-40fbf25dd353",
   "metadata": {
    "tags": []
   },
   "source": [
    "# Need an Analysis on this↑"
   ]
  },
  {
   "cell_type": "markdown",
   "id": "ff858e5d-b409-49bc-8872-fb5f444484a0",
   "metadata": {},
   "source": [
    "**Box Plots**\n",
    "\n",
    "Now, we will be visually representing those values found above using a box and whisker diagram."
   ]
  },
  {
   "cell_type": "code",
   "execution_count": null,
   "id": "1b630772",
   "metadata": {
    "tags": [],
    "vscode": {
     "languageId": "r"
    }
   },
   "outputs": [],
   "source": [
    "boxplot_age <- boxplot(heart_disease_selected$age, \n",
    "                       horizontal = TRUE,\n",
    "                       ylim=c(30,80),\n",
    "                       xlab=\"Age (years)\",\n",
    "                       col=\"lightblue\",\n",
    "                       main=\"Boxplot of Age\")\n",
    "\n",
    "boxplot_chol <- boxplot(heart_disease_selected$chol, \n",
    "                        horizontal = TRUE,\n",
    "                        ylim=c(60,600),\n",
    "                        xlab=\"Serum Cholesterol(mg/dl)\",\n",
    "                        col=\"lightblue\",\n",
    "                        main=\"Boxplot of Serum Cholestoral\")\n",
    "\n",
    "boxplot_thalach <- boxplot(heart_disease_selected$thalach, \n",
    "                           horizontal = TRUE,\n",
    "                           ylim=c(60,210),\n",
    "                           xlab=\"Maximum Heart Rate (bpm)\",\n",
    "                           col=\"lightblue\",\n",
    "                           main=\"Boxplot of Maximum Heart Rate\")\n",
    "\n",
    "boxplot_trestbps <- boxplot(heart_disease_selected$trestbps, \n",
    "                            horizontal = TRUE,\n",
    "                            ylim=c(90,220),\n",
    "                            xlab=\"Resting Blood Pressure (mmHg)\",\n",
    "                            col=\"lightblue\",\n",
    "                            main=\"Boxplot of Resting Blood Pressure\")"
   ]
  },
  {
   "cell_type": "markdown",
   "id": "1771958c-899d-4f2e-9b1d-fc40d1eb4ac9",
   "metadata": {},
   "source": [
    "**Summary Table / Box Plots Analysis**\n",
    "\n",
    "The spread for age is between 29 to 77 years old. The first quartile and third quartile is 48 and 61 respectively, this means that our model is basically focusing on the age gap between 48 and 61 years old, which makes the mean 54.43 years old and 56 years old is the age of the majority patients in our data set which is relatively a higher age. This tells us that our model is predicting patients closer to retirement age, which would probably increase the number of heart diseases. If we want to predict a group of teenagers in their 20s or older people in their 70s, this model will not be appropriate to make the prediction.This means that our interquartile range is 61 - 48 = 13\n",
    "\n",
    "The Standard Deviation is 9.07 years; this is the typical difference between each patient’s age and the mean age of the 1025 patients.\n",
    "\n",
    "\n",
    "The spread for the resting blood pressure is from 94 mmHg to 200 mmHg. The first quartile is 120 and the third quartile 140 respectively. This means that our interquartile range is 140 - 120 = 20. Based on the box and whisker plot, we got a mean (average) of 131.6 and a median of 130.0. Since the mean is greater than the median, our data is right-skewed.\n",
    "\n",
    "The spread for the resting blood pressure is from 71.0 bpm to 202.0 bpm. The first quartile is 132 and the third quartile 166 respectively. This means that our interquartile range is 166 - 132 = 34. Based on the box and whisker plot, we got a mean (average) of 149.1 and a median of 152. Since the mean is less than the median, our data is left-skewed.\n",
    "\n",
    "\n",
    "The spread for the cholesterol is between 126 mg/dl and 564 mg/dl. The first quartile is 211 and the third quartile 275 respectively. This means that our interquartile range is 275 - 211 = 64. Based on the box and whisker plot, we got a mean (average) of 246 and a median of 240. Since the mean is greater than the median, our data is right-skewed."
   ]
  },
  {
   "cell_type": "markdown",
   "id": "966e3831-c8b4-4f4d-a7e7-e1ee68d2829f",
   "metadata": {},
   "source": [
    "## Visualization\n",
    "Now we will visualize the relationship between each numerical variable vs the heart disease using `ggplot`."
   ]
  },
  {
   "cell_type": "markdown",
   "id": "2d78cde8-b126-4c4c-a240-938976624d2c",
   "metadata": {},
   "source": [
    "### Age vs Cholesterol\n",
    "\n",
    "Now, we will visualize the relationship between the age and the cholesterol. First, we will be using `select` function to create a table."
   ]
  },
  {
   "cell_type": "code",
   "execution_count": null,
   "id": "9feb5c24-1df4-42cf-8be2-cd7e6e1b26e1",
   "metadata": {
    "tags": [],
    "vscode": {
     "languageId": "r"
    }
   },
   "outputs": [],
   "source": [
    "hd_select_chol <- select(heart_disease_selected,age,chol,heart_disease)|>\n",
    "               mutate(heart_disease)\n",
    "hd_select_chol"
   ]
  },
  {
   "cell_type": "markdown",
   "id": "ade07ef1-3699-4408-85df-06219532c019",
   "metadata": {},
   "source": [
    "Now, we will visualize the correlation between `age` and `chol` (the number of cholesterol) and whether there is any relationship with the diagnosis of heart disease. We will create a scatter plot using `geom_point` in order to visualize the relationship between those two variables. We will be using the `alpha` value of 0.3 in order to visualize any overlapping points and have a density visualization.\n",
    "Hypothesis: We think that the patient with a higher age will have a higher cholesterol which will cause to have a higher rate of heart disease. "
   ]
  },
  {
   "cell_type": "code",
   "execution_count": null,
   "id": "8ff4adb8-ce09-429f-b9d4-302b4e38a714",
   "metadata": {
    "tags": [],
    "vscode": {
     "languageId": "r"
    }
   },
   "outputs": [],
   "source": [
    "hd_chol_plot <- ggplot(hd_select_chol,aes(x = age, y = chol, colour = heart_disease)) +\n",
    "                    geom_point(alpha = 0.3) +\n",
    "                    labs(x = \"Age\", y = \"Cholesterol (mg/dl)\", colour = \"Heart Disease\", caption = \"Figure 1\") +       \n",
    "                    ggtitle(\"Age vs Cholesterol Scatterplot\")\n",
    "hd_chol_plot"
   ]
  },
  {
   "cell_type": "markdown",
   "id": "fe6f9133-c3ed-4901-ab4a-a0a13359fa07",
   "metadata": {},
   "source": [
    "**Analysis**\n",
    "\n",
    "By looking at the scatter plot above, it seems like there is a weak to no correlation between those two variables (age and the number of cholesterols) However, it has a slight tendency that the red dots which represent no heart disease are on the right side of the scatter plot, which means that the higher the age is, there are fewer people that are diagnosed with heart disease. This scatter plot has surprised us to some degree since we initially hypothesized that the higher the age is, the higher the cholesterol will be, and so as the number of patients diagnosed with heart disease. "
   ]
  },
  {
   "cell_type": "markdown",
   "id": "5defdbe5-a6b1-4958-9574-539524773f8b",
   "metadata": {},
   "source": [
    "### Age vs Max Heart Rate\n",
    "\n",
    "Now we will be using `age` and `thalach` to visualize the correlation between the Age and the Maximum Heart Rate achieved by the patient, and if they have any effect on the diagnosis of the heart disease. "
   ]
  },
  {
   "cell_type": "code",
   "execution_count": null,
   "id": "1bd06fd6-e732-4579-8236-650032220054",
   "metadata": {
    "tags": [],
    "vscode": {
     "languageId": "r"
    }
   },
   "outputs": [],
   "source": [
    "hd_select_thalach <- select(heart_disease_selected,age,thalach,heart_disease)|>\n",
    "                  mutate(heart_disease)\n",
    "hd_select_thalach"
   ]
  },
  {
   "cell_type": "code",
   "execution_count": null,
   "id": "60e2d398-be84-413b-be7b-52e6c702479d",
   "metadata": {
    "tags": [],
    "vscode": {
     "languageId": "r"
    }
   },
   "outputs": [],
   "source": [
    "hd_thalach_plot <- ggplot(hd_select_thalach,aes(x = age, y = thalach, colour = heart_disease)) +\n",
    "                       geom_point(alpha = 0.3)+\n",
    "                       labs(x = \"Age\", y= \"Maximum Heart Rate (bpm)\", colour = \"Heart Disease\", caption = \"Figure 2\") +       \n",
    "                       ggtitle(\"Age vs Maximum Heart Rate Scatterplot\")\n",
    "hd_thalach_plot   "
   ]
  },
  {
   "cell_type": "markdown",
   "id": "b60d96e7-2991-45b4-b2fd-abdac4d98fb2",
   "metadata": {},
   "source": [
    "**Analysis**\n",
    "\n",
    "From the scatter plot above, it is clear that it has a weak negative correlation between the age and the maximum heart rate achieved. This was according to our hypothesis that the younger the age, the higher the maximum heart rate. This hypothesis was based on our research that it said to derive the maximum heart rate, minus the age from 220. (Centers for Disease Control and Prevention) \n",
    "Also, there is a tendency for patients with higher maximum heart rates tend to have a higher rate of heart disease. "
   ]
  },
  {
   "cell_type": "markdown",
   "id": "6b9dce1c-68ff-4e64-b0b5-0a01f03fd96c",
   "metadata": {},
   "source": [
    "### Age vs Resting Blood Pressure\n",
    "\n",
    "Now we will be using `age` and `trestbps` to visualize the correlation between the Age and the Resting Blood Pressure achieved by the patient, and if they have any effect on the diagnosis of the heart disease. \n",
    "Hypothesis: We think that elder patients will have a higher resting blood pressure which causes them to have a higher number of positive heart disease diagnoses. "
   ]
  },
  {
   "cell_type": "code",
   "execution_count": null,
   "id": "64593b27-c0d4-480c-ab67-54c2e6652009",
   "metadata": {
    "tags": [],
    "vscode": {
     "languageId": "r"
    }
   },
   "outputs": [],
   "source": [
    "hd_select_trestbps <- select(heart_disease_selected,age,trestbps,heart_disease)|>\n",
    "                   mutate(heart_disease)\n",
    "hd_select_trestbps"
   ]
  },
  {
   "cell_type": "code",
   "execution_count": null,
   "id": "c1eca26a-0a16-4a7e-93ac-7217932647bb",
   "metadata": {
    "tags": [],
    "vscode": {
     "languageId": "r"
    }
   },
   "outputs": [],
   "source": [
    "hd_trestbps_plot <- ggplot(hd_select_trestbps,aes(x = age, y = trestbps, colour = heart_disease)) +\n",
    "                        geom_point(alpha = 0.3) +\n",
    "                        labs(x = \"Age\", y = \"Resting Blood Pressure (mm/Hg)\", colour = \"Heart Disease\", caption = \"Figure 3\") +       \n",
    "                        ggtitle(\"Age vs Resting Blood Pressure Scatterplot\")\n",
    "hd_trestbps_plot   "
   ]
  },
  {
   "cell_type": "markdown",
   "id": "40a2dd71-6364-44d2-ad87-0886e52e3f1d",
   "metadata": {},
   "source": [
    "**Analysis**\n",
    "\n",
    "According to our scatter plot above, there is almost no correlation between the age and the resting blood pressure as well as the diagnosis of heart disease. This visualization allowed us to find that Resting Blood Pressure might not be a suitable variable to predict a diagnosis of heart disease."
   ]
  },
  {
   "cell_type": "markdown",
   "id": "f9dce42f-43e2-4e61-b0ef-49023b12aaa3",
   "metadata": {},
   "source": [
    "## KNN Classification"
   ]
  },
  {
   "cell_type": "markdown",
   "id": "afd42b65-7c02-427c-b712-8e8945f642d2",
   "metadata": {},
   "source": [
    "**Methods**\n",
    "\n",
    "In order to answer our predictive question, we are going to use the method of K-Nearest Neighbors classification. Essentially, we are going to use predictor variables amount of cholesterol, maximum heart rate, age and resting blood pressure to predict the diagnosis class of heart disease, which can be categorized into 0 (no heart disease) or 1 (heart disease). Therefore, the column names we will incorporate are `chol`, `thalach`, `age`, `trestbps` and `target`. We chose to only use four predictor variables because we think that there are more than two factors that contribute to the diagnosis of heart disease. Since there are multivariables, we can avoid a four dimensional graph by using the `facet_grid` function to create a plot that has multiple subplots arranged in a grid."
   ]
  },
  {
   "cell_type": "markdown",
   "id": "e6578bf0-064d-48cf-aeab-ef517fdfc9ed",
   "metadata": {},
   "source": [
    "**Expected outcomes and significance**\n",
    "\n",
    "\n",
    "What do you expect to find?\n",
    "\n",
    "We expect to identify the most relevant features that contribute to the presence or absence of heart disease.We also look for patterns and correlations within the data.\n",
    "\n",
    "\n",
    "\n",
    "What impact could such findings have?\n",
    "\n",
    "Understanding the factors that contribute to heart disease can inform public health initiatives.Furthermore, discoveries from this dataset can enhance healthcare by improving diagnostic tools and predictive models for heart disease, potentially leading to early detection and treatment.\n",
    "\n",
    "\n",
    "\n",
    "What future questions could this lead to?\n",
    "\n",
    "These research lead us to consider this future question: Are there additional attributes that should be considered, or are there redundant variables that can be eliminated to improve model performance?"
   ]
  },
  {
   "cell_type": "code",
   "execution_count": null,
   "id": "6746642f-8308-49ad-861a-582e87781663",
   "metadata": {
    "tags": [],
    "vscode": {
     "languageId": "r"
    }
   },
   "outputs": [],
   "source": [
    "set.seed(456)\n",
    "\n",
    "split_set <- initial_split(heart_disease_selected, prop = 0.75, strata =heart_disease)  \n",
    "training_set <- training(split_set)   \n",
    "testing_set <- testing(split_set)\n",
    "testing_set\n",
    "training_set"
   ]
  },
  {
   "cell_type": "markdown",
   "id": "9a1ac0eb-e98a-44b7-9a2f-b1d64d41150f",
   "metadata": {},
   "source": [
    "**Heart Disease Recipe**\n",
    "\n",
    "Since we are conducting a KNN Classification in order to answer our predictive question, there is a lot of data needing to be processed. To make it easy on ourselves, and not have to do it ourselves, due to us using tidy models, we will utilize the function `recipe()` from the recipes package to preprocess our data. In it, we set heart_disease as the response variable and age, chol, and trestbps as our predictor variables."
   ]
  },
  {
   "cell_type": "markdown",
   "id": "e76099cb-2511-4c42-85d9-106ab7fb5dac",
   "metadata": {},
   "source": [
    "**Scaling and Centering Data**\n",
    "\n",
    "Now, we will be creating a recipe by scaling and centering the dataset using `step_scale` and `step_center`. Scaling and centering the dataset will allow us to compare variables to each other by setting the mean to 0 and the standard deviation to 1. This additional step will simplify interpretation when comparing each variables and allow us to conduct a KNN classification.\n",
    "We then use `prep()` to calculate statistics from the training data (preprocessing data) and bake() to apply those statistics take from our training set to the testing set. This makes sure that the data we are predicting on is on the same scale as the original data used at the start of the model."
   ]
  },
  {
   "cell_type": "code",
   "execution_count": null,
   "id": "9835ab78-71ff-489e-b46d-e85d54621c73",
   "metadata": {
    "tags": [],
    "vscode": {
     "languageId": "r"
    }
   },
   "outputs": [],
   "source": [
    "set.seed(9999) \n",
    "heart_disease_recipe <- recipe(heart_disease ~ age + chol + thalach + trestbps, data = heart_disease_selected) |>\n",
    "                        step_scale(all_predictors()) |>\n",
    "                        step_center(all_predictors())\n",
    "heart_disease_recipe\n",
    "                        \n",
    "heart_disease_scaled <- heart_disease_recipe |>\n",
    "prep() |> \n",
    "bake(heart_disease_selected)\n",
    "heart_disease_scaled"
   ]
  },
  {
   "cell_type": "markdown",
   "id": "19618258-c017-4b7c-be21-fa222cd3f081",
   "metadata": {},
   "source": [
    "**Visualize Scaled/Centered Data**\n",
    "\n",
    "Now, we will visualize the scaled/centered data into a scatter plot using `ggplot`. "
   ]
  },
  {
   "cell_type": "code",
   "execution_count": null,
   "id": "da2b0343-4c63-4f30-9011-09bb401d79d2",
   "metadata": {
    "tags": [],
    "vscode": {
     "languageId": "r"
    }
   },
   "outputs": [],
   "source": [
    "options(repr.plot.width = 5, repr.plot.height = 5)\n",
    "\n",
    "\n",
    "hd_chol_scaled_plot <- ggplot(heart_disease_scaled, aes(x = age, y = chol, color = heart_disease)) +\n",
    "geom_point(alpha = 0.3) +\n",
    "labs(x = \"Age\", y = \"Cholesterol (mg/dl)\", colour = \"Heart Disease\", caption = \"Figure 4\")\n",
    "hd_chol_scaled_plot\n",
    "\n",
    "hd_maxheart_scaled_plot <- ggplot(heart_disease_scaled, aes(x = age, y = thalach, color = heart_disease)) +\n",
    "geom_point(alpha = 0.3) +\n",
    "labs(x = \"Age\", y = \"Max Heart Rate (bpm)\", colour = \"Heart Disease\", caption = \"Figure 5\")\n",
    "hd_maxheart_scaled_plot\n",
    "\n",
    "hd_trestbps_scaled_plot <- ggplot(heart_disease_scaled, aes(x = age, y = trestbps, color = heart_disease)) +\n",
    "geom_point(alpha = 0.3) +\n",
    "labs(x = \"Age\", y = \"Resting Blood Pressure (mm/Hg)\", colour = \"Heart Disease\", caption = \"Figure 6\")\n",
    "hd_trestbps_scaled_plot"
   ]
  },
  {
   "cell_type": "markdown",
   "id": "b3c5b11c-f39b-47d1-aa15-a15249682780",
   "metadata": {},
   "source": [
    "By looking at the three scatter plots above, it looks like the scaling and the centering of the data worked by looking at the axis where the value 0 for both the x-axis and y-axis generally goes through the center of the scatter plot. \n",
    "As a result, the dataset has been standardized, allowing for meaningful comparisons between variables, and enabling the application of KNN classification."
   ]
  },
  {
   "cell_type": "markdown",
   "id": "7358d21a-2c44-452c-a879-7a68848c1881",
   "metadata": {},
   "source": [
    "**Cross Validations (workflow)**\n",
    "\n",
    "\n",
    "We use the `initial_split()` function to create the training and testing sets. Furthermore, we set prop as 0.75 because 75% of our original data is from the training set. In our case, we also set the strata argument to the categorical variable which is `heart_disease`. Then, we extract the training and testing sets into two separate data frames.\n",
    "\n",
    "Here, we use the `nearest_neighbor()` function to ensure that each neighboring point should get the same weight when voting, and by setting the `weight_func` to “rectangular”, each of the K nearest neighbors gets exactly 1 vote. On the same line, we set the neighbors to the `tune()` function to tune each parameter in the model and that we do not know what K we should use yet. Next, we use the `mnist_spec` data frame to specify that our categorical variable (heart_disease) is determined by different predictor variables such as age, chol, thalach, and trestbps while still using the training set. Moreover, we incorporate the `vfold_cv()` function and set v = 5 to use 5-fold cross-validation in order to split our overall training set into 5 evenly chunks. In the next portion of our code, we created the model specification and recipe into a workflow. Instead of using the `fit()` function, we use the `tune_grid()` function to fit the model for each value in the range of parameter values. Furthermore, we essentially used the concatenate function to set the grid as a tibble. By convention, we need to use the metrics function from tidymodels to examine the accuracy of our classifier’s performance. For our cross validation plot, we create a line plot.\n",
    "\n",
    "According to our line plot, K = 4 is the nearest neighbor that we chose. At first glance, K = 3 and K = 4 are equally reasonable as our nearest neighbors. However, picking K = 3 could risk overfitting. Therefore, we decided to choose K = 4. After that, we create the workflow."
   ]
  },
  {
   "cell_type": "code",
   "execution_count": null,
   "id": "7afcb1f5-47ae-45a2-be49-1ad6d46d1994",
   "metadata": {
    "tags": [],
    "vscode": {
     "languageId": "r"
    }
   },
   "outputs": [],
   "source": [
    "options(repr.plot.height = 5, repr.plot.width = 6)\n",
    "\n",
    "knn_spec <- nearest_neighbor(weight_func = \"rectangular\", neighbors = tune()) |>\n",
    "            set_engine(\"kknn\") |>\n",
    "            set_mode(\"classification\")\n",
    "\n",
    "mnist_recipe  <- recipe(heart_disease ~ age + chol + thalach + trestbps , data = training_set) |>\n",
    "   step_scale(all_predictors()) |>\n",
    "   step_center(all_predictors())\n",
    "\n",
    "\n",
    "mnist_vfold <- vfold_cv(training_set, v = 5, strata = heart_disease)\n",
    "\n",
    "knn_results <- workflow() |>\n",
    "                 add_recipe(mnist_recipe) |>\n",
    "                 add_model(knn_spec) |>\n",
    "                 tune_grid(resamples = mnist_vfold, grid = tibble(neighbors = c(2,3,4,5,6))) |>\n",
    "                 collect_metrics()\n",
    "\n",
    "accuracies <- knn_results |>\n",
    "                 filter(.metric == 'accuracy')\n",
    "\n",
    "cross_val_plot <- ggplot(accuracies, aes(x = neighbors, y = mean)) +\n",
    "                  geom_point() +\n",
    "                  geom_line() +\n",
    "                  labs(x = 'Neighbors', y = 'Accuracy Estimate', caption = \"Figure 7\") +\n",
    "                  theme(text = element_text(size = 20)) +\n",
    "                  scale_x_continuous(breaks = seq(0, 20, 2)) +\n",
    "                  scale_y_continuous(limits = c(0.7, 0.85))\n",
    "\n",
    "cross_val_plot"
   ]
  },
  {
   "cell_type": "code",
   "execution_count": null,
   "id": "c0e9f5ac-0314-4777-9e0e-4ffca0e71f38",
   "metadata": {
    "tags": [],
    "vscode": {
     "languageId": "r"
    }
   },
   "outputs": [],
   "source": [
    "mnist_spec <- nearest_neighbor(weight_func = \"rectangular\", neighbors = 4) |>\n",
    "       set_engine(\"kknn\") |>\n",
    "       set_mode(\"classification\")\n",
    "\n",
    "mnist_fit <- workflow() |>\n",
    "             add_recipe(mnist_recipe) |>\n",
    "             add_model(mnist_spec) |>\n",
    "            fit(data = training_set)\n",
    "mnist_fit"
   ]
  },
  {
   "cell_type": "code",
   "execution_count": null,
   "id": "b8e471ad-2510-4bf2-aebe-f0ca4a2ea962",
   "metadata": {
    "tags": [],
    "vscode": {
     "languageId": "r"
    }
   },
   "outputs": [],
   "source": [
    "mnist_predictions <- predict(mnist_fit ,testing_set) |>\n",
    "      bind_cols(testing_set)\n",
    "\n",
    "predictions_boolean <-  mnist_predictions |>\n",
    "                        mutate(.pred_class = ifelse(.pred_class == heart_disease, TRUE, FALSE))\n",
    "head(predictions_boolean)"
   ]
  },
  {
   "cell_type": "code",
   "execution_count": null,
   "id": "4c086cb0",
   "metadata": {
    "tags": [],
    "vscode": {
     "languageId": "r"
    }
   },
   "outputs": [],
   "source": [
    "options(repr.plot.height = 5, repr.plot.width = 10)\n",
    "\n",
    "hd_chol_predict_plot <- ggplot (predictions_boolean, aes (x = age, y = chol, color = .pred_class)) +\n",
    "                                geom_point(alpha = 0.3) +\n",
    "                                labs(x = \"Age\", y = \"Cholesterol (mg/dl)\", colour = \"Predictions\", title = \"Predictions Plot\", caption = \"Figure 8\" )\n",
    "hd_maxheart_predict_plot <- ggplot(predictions_boolean, aes(x = age, y = thalach, color = .pred_class)) +\n",
    "                                geom_point(alpha = 0.3) +\n",
    "                                labs(x = \"Age\", y = \"Max Heart Rate (bpm)\", color = \"Predictions\", title = \"Predictions Plot\", caption = \"Figure 9\")\n",
    "hd_trestbps_predict_plot <- ggplot(predictions_boolean, aes (x = age, y = trestbps, color = .pred_class)) +\n",
    "                                geom_point(alpha = 0.3) +\n",
    "                                labs(x = \"Age\", y = \"Resting Bloode Pressure (mm/hg)\", color = \"Predictions\", title = \"Predictions Plot\", caption = \"Figure 10\")\n",
    "\n",
    "\n",
    "\n",
    "\n",
    "grid.arrange(hd_chol_scaled_plot, hd_chol_predict_plot, ncol=2)\n",
    "grid.arrange(hd_maxheart_scaled_plot, hd_maxheart_predict_plot, ncol=2)\n",
    "grid.arrange(hd_trestbps_scaled_plot, hd_trestbps_predict_plot, ncol = 2)"
   ]
  },
  {
   "cell_type": "code",
   "execution_count": null,
   "id": "c44dcee5-427b-4f0d-9195-7d3d4ddf2fd8",
   "metadata": {
    "tags": [],
    "vscode": {
     "languageId": "r"
    }
   },
   "outputs": [],
   "source": [
    "prediction_accuracy <- mnist_predictions |>\n",
    "        metrics(truth = heart_disease, estimate = .pred_class)             \n",
    "\n",
    "prediction_accuracy"
   ]
  },
  {
   "cell_type": "code",
   "execution_count": null,
   "id": "585b808c-62a5-4e0a-857b-00c47293cc5e",
   "metadata": {
    "tags": [],
    "vscode": {
     "languageId": "r"
    }
   },
   "outputs": [],
   "source": [
    "set.seed(9999) \n",
    "\n",
    "mnist_metrics <- mnist_predictions |>\n",
    "  metrics(truth = heart_disease,estimate = .pred_class) |>\n",
    "filter(.metric==\"accuracy\")\n",
    "\n",
    "mnist_conf_mat <- mnist_predictions |>\n",
    "  conf_mat(truth = heart_disease, estimate = .pred_class)\n",
    "\n",
    "\n",
    "mnist_metrics\n",
    "mnist_conf_mat"
   ]
  },
  {
   "cell_type": "markdown",
   "id": "507091e8-be66-4841-961b-da852a010d08",
   "metadata": {},
   "source": [
    "## Analysis on the Confusion Matrix\n",
    "\n",
    "\n",
    "Our accuracy was about 87.5%, which means that about 12.5% of the time our classifier makes a mistake. The accuracy is relatively high, hospitals and health care centers can rely on this data. Of course, we can still improve our classifier accuracy. For the improvements, we might want to include more data. We could also explore if there are additional parameters to tune that could improve model performance, or a different model altogether.\n",
    "\n",
    " \n",
    "accuracy=(number of correct predictions)/(total number of predictions)\n",
    "        \t  = (113+112)/(113+112+20+12)\n",
    "        \t =0.8754864\n",
    " \n",
    " \n",
    "In the confusion matrix, we see that there were 113 ‘No’ heart disease observations that were correctly classified as ‘No’(top left corner), and 112 ‘Yes’ heart disease observations that were correctly classified as Yes (bottom right corner). However, we can also see that the classifier made some mistakes: it classified 12 ‘No’ heat disease observations as ‘Yes’, and 4 ‘Yes’ heart disease observations as ‘No’. The accuracy of this classifier is roughly 87.5%, given by the formula. We think that this accuracy is not high enough for this heart disease model, it is related to a person’s health and people look for higher accuracy in the medical field.\n",
    " \n",
    " \n",
    " \n",
    "Precision quantifies how many of the positive predictions the classifier made were actually positive. We would like a classifier to have a high precision: for a classifier with high precision, if the classifier reports that a new observation is positive, we can trust that the new observation is indeed positive.There’s around 10% of chances that this model will mispredict a heart disease patient. We think this is relatively high but we think we should be at least 98% confirmed if we have a heart disease before  taking medication.\n",
    " \n",
    "Precision=(n)/(total number of positive predictions)\n",
    "        \t    = 112/ (112+12)\n",
    "        \t  =0.9032\n",
    " \n",
    "Recall quantifies how many of the positive observations in the test set were identified as positive. We would like a classifier to have a high recall: for a classifier with high recall, if there is a positive observation in the test data, we can trust that the classifier will find it. We think that the recall we calculated is relatively low, because there’s only around 85% that has been correctly predicted and the other 15% is not predicted correctly . If someone has a heart disease there’s a 15% chance we will miss the diagnosis of the heart disease. We think this is not good because of this mistake, the patient doesn't even know that he is a heart disease patient. Instead if this recall is slightly higher the probability of missing a heart disease patient is low.\n",
    " \n",
    "Recall=(number of correct positive predictions)/(total number of positive test set observations)\n",
    "        \t= 112/ (112+20)\n",
    "        \t=0.8485"
   ]
  },
  {
   "cell_type": "markdown",
   "id": "cf1f6e11-16ce-4eab-9c89-077c29fc092d",
   "metadata": {
    "vscode": {
     "languageId": "r"
    }
   },
   "source": [
    "# Discussion\n",
    "\n",
    "**Summarize what you found**\n",
    "\n",
    "From exploring this heart disease data, we found that not all the predictor variables we used had a strong correlation with the diagnosis of heart disease. For example, it seemed that there was a weak correlation between age and cholesterol. This suggests that the higher the age, the less likely that people will be diagnosed with heart disease which is surprisingly the exact opposite to the norm. Similarly, there appeared almost no correlation between age and resting blood pressure. Generally speaking, younger people tend to have lower maximum heart rates. Nevertheless, our data showed that the lower the age, the higher the maximum heart rate there will be, implying that younger patients will have a higher chance of getting a heart disease. Aside from our graphs, we standardized (setting the mean as 0 and standard deviation as 1) our dataset to ensure reliability and accuracy of our data. Moreover, we calculated our accuracy to be approximately 87.5% and precision to be around 90%. In our perspective, we strongly think that these percentages are very high relative to our heart disease setting (as discussed earlier). Conversely, our recall was fairly low with about 85%. If a patient is diagnosed with a heart disease, there is a 15% chance that we will miss it which is a very high rate in the medical realm.\n",
    "\n",
    "\n",
    "\n",
    "**Discuss whether this is what you expected to find?**\n",
    "\n",
    "The visualization between the age of the patient vs the cholesterol, maximum heart rate, and resting blood pressure showed us a result that was somewhat different from what we expected initially. \n",
    "For the age vs cholesterol scatter plot, we hypothesized that the higher the age, the higher the cholesterol amount would be, which could increase the number of heart diseases. However, according to the plot provided, it seems like there is a weak to no correlation between those two variables. Moreover, there was an interesting observation made in this plot. While the diagnosis of “Yes” was spread out to the whole plot, the diagnosis of “No” was particularly higher compared to the lower ages. This conflicted with our hypothesis, that the higher the age, the higher the heart disease number would be. \n",
    "For the age vs max heart rate scatter plot, There was a moderate negative correlation between those two variables, which supported our hypothesis, which was that the patient with younger age would have a higher maximum heart rate. In this visualization, it shows that people with higher max heart rates have a higher number of heart diseases. \n",
    "For the age vs resting blood pressure, it did not give us useful information to analyze since it had no correlation between them. \n",
    "For our KNN classification, we initially hypothesized that using age, cholesterol, max heart rate, and resting blood pressure as predictors, the KNN model would accurately predict heart disease. This hypothesis was correct to some degree where the accuracy of the model was around 87.5%. The confusion matrix showed correct predictions for “No” heart disease, but some misclassifications for “Yes” heart disease. Precision was around 90%, indicating a relatively high proportion of true positives among positive predictions. However, the recall was around 85%, suggesting that the model missed identifying some actual cases of heart disease. Also, in the medical world, miss predicting the result of malicious diseases such as heart disease will lead to serious problems such as deaths. Although there could be some interpretation for what is considered “high” accuracy, precision, recall, in this case of predicting a heart disease, it should have a higher value in order to validate the prediction. \n",
    "\n",
    "\n",
    "\n",
    "**Discuss what impact could such findings have?**\n",
    "\n",
    "While our analysis into resting blood pressure could not give us any useful findings, cholesterol and maximum heart rate certainly did.\n",
    "Many of the interpretations taken from the age and cholesterol plot refute concrete scientific claims from both the National Institutes of Health and National Institute of Aging of the United States. Conceived notions like heart disease risk and total cholesterol increasing with age are not present in the plots. While the concentration of the spread in the ages of 48-61 and other variables in the sample should still be taken into account , this might warrant more extensive data analysis with other samples and other machine learning algorithms. In the case of these also rebutting prior claims, it is of probable caution to further investigate in research in human anatomy.\n",
    "It was also found that there is a positive correlation between maximum heart rate and risk of heart disease. With this in mind, it is possible for an increase in prevention, with more people paying attention to their heart rate and taking the necessary precautions to lower it when at high rates.\n",
    "The heart disease model proposed is a glimpse of what can be done with machine learning and data analysis. This specific model unfortunately, cannot, under any circumstances be used as a diagnostic tool due to its 15% misdiagnosis rate. In other fields, a 85% success rate might be acceptable, but with a health-risk so high in the form of false-positives and false-negatives (unnecessary or potentially life-risking medication, etc.) it is prudent that it not be used. It does however, project a bright future in data-based/AI diagnosis. If the model can be improved, with different algorithms, variables and samples, the misdiagnosis rate can fall a considerable rate, to the point of it being medically viable. This would be extremely valuable for the medical field, and would also help in the future computer diagnosis of hard to detect medical conditions.\n",
    "\n",
    "\n",
    "\n",
    "\n",
    "\n",
    "**Discuss what future questions could this lead to?**\n",
    "\n",
    "Based on our research the accuracy and precision were about 85% - 90%, however, the variables that we chose could’ve affected those numbers. Therefore, conducting a KNN classification using a different variable could increase or decrease the accuracy/precision. This raises another question that we could conduct in the future: What variables have the highest accuracy/precision in order to predict the diagnosis of heart disease? Other possible questions include: How does gender influence the likelihood of being diagnosed with heart disease? How do other variables such as fasting blood pressure, depression, and exercise affect the diagnosis of heart disease?\n"
   ]
  },
  {
   "cell_type": "code",
   "execution_count": null,
   "id": "73765ee2-5e06-434c-8ffa-bed942543b9e",
   "metadata": {},
   "outputs": [],
   "source": []
  }
 ],
 "metadata": {
  "kernelspec": {
   "display_name": "R",
   "language": "R",
   "name": "ir"
  },
  "language_info": {
   "codemirror_mode": "r",
   "file_extension": ".r",
   "mimetype": "text/x-r-source",
   "name": "R",
   "pygments_lexer": "r",
   "version": "4.2.2"
  }
 },
 "nbformat": 4,
 "nbformat_minor": 5
}
