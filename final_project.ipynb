{
 "cells": [
  {
   "cell_type": "markdown",
   "id": "cc098e26-f3bd-4d4b-9ca8-e5071d472fca",
   "metadata": {},
   "source": [
    "# Data Analysis on Heart Disease"
   ]
  },
  {
   "cell_type": "markdown",
   "id": "75587974-896b-4c03-9bda-8640032b350f",
   "metadata": {},
   "source": [
    "## Introduction\n",
    "Heart diseases are one of the leading causes of death in the world including the United States for many years. With the increasing rate of cases for heart diseases worldwide, it is important to focus at the leading causes of this disease and establish a relationship between these vicious disease. As a base for our analysis we are going to use the heart disease dataset available at Kaggle. \n",
    "(https://www.kaggle.com/datasets/johnsmith88/heart-disease-dataset/data)\n",
    "\n",
    "This is the cleaned version of the data set given in Canvas -> group_project_proposal\n",
    "\n",
    "\n",
    "The dataset originates from 1988 and evaluates data from four different databases: Cleveland, Hungary, Switzerland and Long Beach V. While the dataset does have 76 distinct attributes, it only utilizes 14 of them. In our group project, we chose to focus on the variables age, resting blood pressure, cholesterol, and  maximum heart rate and compere it to the diagnosis of heart disease. We chose this variables since according to National Center for Chronic Disease Prevention and Health Promotion (NCCDPHP) it is considered one of the leading reason of causing the heart disease. We will be comparing the numerical variables by the categorical variables (2 cases) “0” and “1” which shows the diagnosis of heart diseases. \n",
    "\n",
    "From thee following informations, we will be attempting to answer the following predictive question. \n",
    "\n",
    "**Predictive question:**\n",
    "How does the amount of cholesterol, type of heart defect, age, and sex help us predict the diagnosis of heart disease?\n",
    "\n",
    "We will be conducting a KNN classification in order to answer the predictive question."
   ]
  },
  {
   "cell_type": "code",
   "execution_count": null,
   "id": "cfc11267-fb04-4cf6-8688-81749e31c029",
   "metadata": {
    "tags": [],
    "vscode": {
     "languageId": "r"
    }
   },
   "outputs": [],
   "source": [
    "### Run this cell before continuing.\n",
    "install.packages(\"kknn\")\n",
    "library(kknn)\n",
    "library(repr)\n",
    "library(tidyverse)\n",
    "library(tidymodels)\n",
    "library(dplyr)\n",
    "library(ggplot2)\n",
    "options(repr.matrix.max.rows = 10)"
   ]
  },
  {
   "cell_type": "markdown",
   "id": "caac711a-783d-4ce3-ab5a-7857e74d8953",
   "metadata": {},
   "source": [
    "### Reading the Data\n",
    "\n",
    "First read the raw data from GitHub that we uploaded."
   ]
  },
  {
   "cell_type": "code",
   "execution_count": null,
   "id": "0fef424f-ebfe-4384-9d71-d2a4aa5a473b",
   "metadata": {
    "tags": [],
    "vscode": {
     "languageId": "r"
    }
   },
   "outputs": [],
   "source": [
    "heart_disease_data <- read_csv(\"https://raw.githubusercontent.com/yma24ma/dsci_009_43_gp/main/heart.csv\")\n",
    "heart_disease_data"
   ]
  },
  {
   "cell_type": "markdown",
   "id": "feb6acd4-1eb5-4b29-88e3-a64333cbc958",
   "metadata": {},
   "source": [
    "**Variables**\n",
    "\n",
    "age: Age\n",
    "\n",
    "sex: Sex\n",
    "\n",
    "cp: Chest pain type (4 values)\n",
    "\n",
    "trestbps: resting blood pressure\n",
    "\n",
    "chol: serum cholestoral in mg/dl\n",
    "\n",
    "fbs: fasting blood sugar > 120 mg/dl\n",
    "\n",
    "restecg: resting electrocardiographic results (values 0,1,2)\n",
    "\n",
    "thalacg: maximum heart rate achieved\n",
    "\n",
    "exang: exercise induced angina\n",
    "\n",
    "oldpeak: ST depression induced by exercise relative to rest\n",
    "\n",
    "slope: the slope of the peak exercise ST segment\n",
    "\n",
    "ca: number of major vessels (0-3) colored by flourosopy\n",
    "\n",
    "thal: 0 = normal; 1 = fixed defect; 2 = reversable defect\n",
    "\n",
    "target: diagnosis of heart disease"
   ]
  },
  {
   "cell_type": "markdown",
   "id": "990e28cc-1d6b-4324-90df-2b0b4c8a678f",
   "metadata": {
    "tags": []
   },
   "source": [
    "**Select Data**\n",
    "\n",
    "We will now be using the `select()` function to select the row that we will be using in this analysis and make it into one table."
   ]
  },
  {
   "cell_type": "code",
   "execution_count": null,
   "id": "08132990-7890-4e79-8a53-f1a7c701c5c2",
   "metadata": {
    "tags": [],
    "vscode": {
     "languageId": "r"
    }
   },
   "outputs": [],
   "source": [
    "heart_disease_selected <- select(heart_disease_data, age, chol, target, thalach, trestbps)|>\n",
    "                          mutate(target=as_factor(target))|>\n",
    "                          mutate(heart_disease=fct_recode(target, \"Yes\" = \"1\", \"No \" = \"0\"))\n",
    "heart_disease_selected"
   ]
  },
  {
   "cell_type": "markdown",
   "id": "cd651956-add7-4567-b4cd-dc11eea4bb95",
   "metadata": {},
   "source": [
    "We use the sum function to check if there are any NA values in our data tables"
   ]
  },
  {
   "cell_type": "code",
   "execution_count": null,
   "id": "0ec4d284-bbd8-4956-a86e-aed96bd46bbd",
   "metadata": {
    "tags": []
   },
   "outputs": [],
   "source": [
    "sum(is.na(heart_disease_selected))"
   ]
  },
  {
   "cell_type": "markdown",
   "id": "3bdda5e1",
   "metadata": {},
   "source": [
    "**Average of Selected**"
   ]
  },
  {
   "cell_type": "code",
   "execution_count": null,
   "id": "7f262c96",
   "metadata": {
    "tags": [],
    "vscode": {
     "languageId": "r"
    }
   },
   "outputs": [],
   "source": [
    "hd_average1 <- heart_disease_selected |>\n",
    "                map(mean) \n",
    "hd_average1"
   ]
  },
  {
   "cell_type": "markdown",
   "id": "966e3831-c8b4-4f4d-a7e7-e1ee68d2829f",
   "metadata": {},
   "source": [
    "## Visualization\n",
    "Now we will visualize the relationship between each numerical variable vs the heart disease."
   ]
  },
  {
   "cell_type": "markdown",
   "id": "2d78cde8-b126-4c4c-a240-938976624d2c",
   "metadata": {},
   "source": [
    "**Age vs Cholesterol**\n",
    "\n",
    "Now, we will visualize the relationship between the age and the cholesterol. First, we will be using `select` function to create a table."
   ]
  },
  {
   "cell_type": "code",
   "execution_count": null,
   "id": "9feb5c24-1df4-42cf-8be2-cd7e6e1b26e1",
   "metadata": {
    "tags": []
   },
   "outputs": [],
   "source": [
    "hd_select_chol <- select(heart_disease_selected,age,chol,heart_disease)|>\n",
    "               mutate(heart_disease)\n",
    "hd_select_chol"
   ]
  },
  {
   "cell_type": "markdown",
   "id": "ade07ef1-3699-4408-85df-06219532c019",
   "metadata": {},
   "source": [
    "**Age vs Cholesterol**\n",
    "\n",
    "Now, we will visualize the correlation between `age` and `chol` (the number of cholesterol) and whether there is any relationship with the diagnosis of heart disease. We will be using `ggplot` to create a scatter plot using `geom_point` in order to visualize the relationship between those two variables. We will be using the `alpha` value of 0.3 in order to visualize any overlapping points and have a density visualization.\n",
    "Hypothesis: We think that the patient with a higher age will have a higher cholesterol which will cause to have a higher rate of heart disease. "
   ]
  },
  {
   "cell_type": "code",
   "execution_count": null,
   "id": "8ff4adb8-ce09-429f-b9d4-302b4e38a714",
   "metadata": {
    "tags": []
   },
   "outputs": [],
   "source": [
    "hd_chol_plot <- ggplot(hd_select_chol,aes(x = age, y = chol,colour = heart_disease)) +\n",
    "                    geom_point(alpha = 0.3) +\n",
    "                    labs(x = \"Age\", y = \"Cholesterol (mg/dl)\", colour = \"Heart Disease\") +       \n",
    "                    ggtitle(\"Age vs Cholesterol Scatterplot\")\n",
    "hd_chol_plot   "
   ]
  },
  {
   "cell_type": "markdown",
   "id": "fe6f9133-c3ed-4901-ab4a-a0a13359fa07",
   "metadata": {},
   "source": [
    "**Analysis**\n",
    "\n",
    "By looking at the scatter plot above, it seems like there is a weak to no correlation between those two variables (age and the number of cholesterols) However, it has a slight tendency that the red dots which represent no heart disease are on the right side of the scatter plot, which means that the higher the age is, there are fewer people that are diagnosed with heart disease. This scatter plot has surprised us to some degree since we initially hypothesized that the higher the age is, the higher the cholesterol will be, and so as the number of patients diagnosed with heart disease. "
   ]
  },
  {
   "cell_type": "code",
   "execution_count": null,
   "id": "1bd06fd6-e732-4579-8236-650032220054",
   "metadata": {
    "tags": []
   },
   "outputs": [],
   "source": [
    "hd_select_thalach <- select(heart_disease_selected,age,thalach,heart_disease)|>\n",
    "                  mutate(heart_disease)\n",
    "hd_select_thalach"
   ]
  },
  {
   "cell_type": "markdown",
   "id": "1a6ee88e-bcc5-47ab-a7ee-f8b809f0e649",
   "metadata": {},
   "source": [
    "**Age vs Max Heart Rate**\n",
    "\n",
    "Now we will be using `age` and `thalach` to visualize the correlation between the Age and the Maximum Heart Rate achieved by the patient, and if they have any effect on the diagnosis of the heart disease. "
   ]
  },
  {
   "cell_type": "code",
   "execution_count": null,
   "id": "60e2d398-be84-413b-be7b-52e6c702479d",
   "metadata": {
    "tags": []
   },
   "outputs": [],
   "source": [
    "hd_thalach_plot <- ggplot(hd_select_thalach,aes(x = age, y = thalach, colour = heart_disease)) +\n",
    "                       geom_point(alpha = 0.3)+\n",
    "                       labs(x = \"Age\", y= \"Maximum Heart Rate (bpm)\", colour = \"Heart Disease\") +       \n",
    "                       ggtitle(\"Age vs Maximum Heart Rate Scatterplot\")\n",
    "hd_thalach_plot   "
   ]
  },
  {
   "cell_type": "markdown",
   "id": "b60d96e7-2991-45b4-b2fd-abdac4d98fb2",
   "metadata": {},
   "source": [
    "**Analysis**\n",
    "\n",
    "From the scatter plot above, it is clear that it has a weak negative correlation between the age and the maximum heart rate achieved. This was according to our hypothesis that the younger the age, the higher the maximum heart rate. This hypothesis was based on our research that it said to derive the maximum heart rate, minus the age from 220. (Centers for Disease Control and Prevention) \n",
    "Also, there is a tendency for patients with higher maximum heart rates tend to have a higher rate of heart disease. "
   ]
  },
  {
   "cell_type": "code",
   "execution_count": null,
   "id": "64593b27-c0d4-480c-ab67-54c2e6652009",
   "metadata": {
    "tags": []
   },
   "outputs": [],
   "source": [
    "hd_select_trestbps <- select(heart_disease_selected,age,trestbps,heart_disease)|>\n",
    "                   mutate(heart_disease)\n",
    "hd_select_trestbps"
   ]
  },
  {
   "cell_type": "markdown",
   "id": "55dfd2cd-b50e-46ba-98ef-b0066785d6a1",
   "metadata": {},
   "source": [
    "**Age vs Resting Blood Pressure**\n",
    "\n",
    "Now we will be using `age` and `trestbps` to visualize the correlation between the Age and the Resting Blood Pressure achieved by the patient, and if they have any effect on the diagnosis of the heart disease. \n",
    "Hypothesis: We think that elder patients will have a higher resting blood pressure which causes them to have a higher number of positive heart disease diagnoses. "
   ]
  },
  {
   "cell_type": "code",
   "execution_count": null,
   "id": "c1eca26a-0a16-4a7e-93ac-7217932647bb",
   "metadata": {
    "tags": []
   },
   "outputs": [],
   "source": [
    "hd_trestbps_plot <- ggplot(hd_select_trestbps,aes(x = age, y = trestbps, colour = heart_disease)) +\n",
    "                        geom_point(alpha = 0.3) +\n",
    "                        labs(x = \"Age\", y = \"Resting Blood Pressure (mm/Hg)\", colour = \"Heart Disease\") +       \n",
    "                        ggtitle(\"Age vs Resting Blood Pressure Scatterplot\")\n",
    "hd_trestbps_plot   "
   ]
  },
  {
   "cell_type": "markdown",
   "id": "40a2dd71-6364-44d2-ad87-0886e52e3f1d",
   "metadata": {},
   "source": [
    "**Analysis**\n",
    "\n",
    "According to our scatter plot above, there is almost no correlation between the age and the resting blood pressure as well as the diagnosis of heart disease."
   ]
  },
  {
   "cell_type": "markdown",
   "id": "afd42b65-7c02-427c-b712-8e8945f642d2",
   "metadata": {},
   "source": [
    "## Methods\n",
    "For our Heart Disease data set, we are going to use the method of K-nearest neighbors classification. Essentially, we are going to use predictor variables chol (amount of cholesterol), thal (type of heart defect), age and sex to predict the diagnosis class of heart disease, which can be categorized into 0 (no heart disease) or 1 (heart disease). Therefore, the column names we will incorporate are chol, thal, age, sex and target. We chose to only use four predictor variables because we think that there are more than two factors that contribute to the diagnosis of heart disease. Since there are multivariables, we can avoid a 4D graph by using the facet_grid function to create a plot that has multiple subplots arranged in a grid."
   ]
  },
  {
   "cell_type": "markdown",
   "id": "e6578bf0-064d-48cf-aeab-ef517fdfc9ed",
   "metadata": {},
   "source": [
    "## Expected outcomes and significance\n",
    "\n",
    "\n",
    "What do you expect to find?\n",
    "\n",
    "We expect to identify the most relevant features that contribute to the presence or absence of heart disease.We also look for patterns and correlations within the data.\n",
    "\n",
    "What impact could such findings have?\n",
    "\n",
    "Understanding the factors that contribute to heart disease can inform public health initiatives.Furthermore, discoveries from this dataset can enhance healthcare by improving diagnostic tools and predictive models for heart disease, potentially leading to early detection and treatment.\n",
    "\n",
    "What future questions could this lead to?\n",
    "\n",
    "Are there additional attributes that should be considered, or are there redundant variables that can be eliminated to improve model performance?\n",
    "\n"
   ]
  },
  {
   "cell_type": "markdown",
   "id": "e397fe97-3a70-4bd0-bd26-e9b8474cdd85",
   "metadata": {},
   "source": [
    "**Scaling and Centering Data**\n",
    "\n",
    "Now, we will be creating a recipe by scaling and centering the dataset using `step_scale` and `step_center`. Scaling and centering the dataset will allow us to compare variables to each other by setting the mean to 0 and the standard deviation to 1. This additional step will simplify interpretation when comparing each variables and allow us to conduct a KNN classification."
   ]
  },
  {
   "cell_type": "code",
   "execution_count": null,
   "id": "e243cd55-2691-4312-8181-c96d56268ab8",
   "metadata": {
    "tags": []
   },
   "outputs": [],
   "source": [
    "set.seed(9999) \n",
    "heart_disease_recipe <- recipe(heart_disease ~ age + chol + thalach + trestbps, data = heart_disease_selected) |>\n",
    "                        step_scale(all_predictors()) |>\n",
    "                        step_center(all_predictors())\n",
    "heart_disease_recipe\n",
    "                        \n",
    "heart_disease_scaled <- heart_disease_recipe |>  \n",
    "                        prep() |> \n",
    "                        bake(heart_disease_selected)\n",
    "heart_disease_scaled"
   ]
  },
  {
   "cell_type": "markdown",
   "id": "79f4457e-ddba-4cae-a307-60637f9374d4",
   "metadata": {},
   "source": [
    "**Visualize Scaled/Centered Data**\n",
    "\n",
    "Now, we will visualize the scaled/centered data into a scatter plot using `ggplot`. "
   ]
  },
  {
   "cell_type": "code",
   "execution_count": null,
   "id": "4fa449f3-346b-4ba0-b654-d7afd3325162",
   "metadata": {},
   "outputs": [],
   "source": [
    "options(repr.plot.width = 5, repr.plot.height = 5)\n",
    "\n",
    "\n",
    "hd_chol_scaled_plot <- ggplot(heart_disease_scaled, aes(x = age, y = chol, color = heart_disease)) +\n",
    "geom_point(alpha = 0.3) +\n",
    "labs(x = \"Age\", y = \"Cholesterol (mg/dl)\", colour = \"Heart Disease\")\n",
    "hd_chol_scaled_plot\n",
    "\n",
    "hd_maxheart_scaled_plot <- ggplot(heart_disease_scaled, aes(x = age, y = thalach, color = heart_disease)) +\n",
    "geom_point(alpha = 0.3) +\n",
    "labs(x = \"Age\", y = \"Max Heart Rate (bpm)\", colour = \"Heart Disease\")\n",
    "hd_maxheart_scaled_plot\n",
    "\n",
    "hd_trestbps_scaled_plot <- ggplot(heart_disease_scaled, aes(x = age, y = trestbps, color = heart_disease)) +\n",
    "geom_point(alpha = 0.3) +\n",
    "labs(x = \"Age\", y = \"Resting Blood Pressure (mm/Hg)\", colour = \"Heart Disease\")\n",
    "hd_trestbps_scaled_plot"
   ]
  },
  {
   "cell_type": "markdown",
   "id": "401469bc-321a-4f90-adab-1b27bba39ea8",
   "metadata": {},
   "source": [
    "By looking at the three scatter plots above, it looks like the scaling and the centering of the data worked by looking at the axis where the value 0 for both the x-axis and y-axis generally goes through the center of the scatter plot. \n",
    "As a result, the dataset has been standardized, allowing for meaningful comparisons between variables, and enabling the application of KNN classification."
   ]
  },
  {
   "cell_type": "code",
   "execution_count": null,
   "id": "6746642f-8308-49ad-861a-582e87781663",
   "metadata": {},
   "outputs": [],
   "source": [
    "split_set <- initial_split(heart_disease_selected, prop = 0.75, strata =heart_disease)  \n",
    "training_set <- training(split_set)   \n",
    "testing_set <- testing(split_set)\n",
    "testing_set\n",
    "training_set"
   ]
  },
  {
   "cell_type": "code",
   "execution_count": null,
   "id": "7afcb1f5-47ae-45a2-be49-1ad6d46d1994",
   "metadata": {
    "tags": []
   },
   "outputs": [],
   "source": [
    "options(repr.plot.height = 5, repr.plot.width = 6)\n",
    "\n",
    "knn_spec <- nearest_neighbor(weight_func = \"rectangular\", neighbors = tune()) |>\n",
    "            set_engine(\"kknn\") |>\n",
    "            set_mode(\"classification\")\n",
    "\n",
    "mnist_recipe  <- recipe(heart_disease ~ age + chol + thalach + trestbps , data = training_set) |>\n",
    "   step_scale(all_predictors()) |>\n",
    "   step_center(all_predictors())\n",
    "\n",
    "\n",
    "mnist_vfold <- vfold_cv(training_set, v = 5, strata = heart_disease)\n",
    "\n",
    "knn_results <- workflow() |>\n",
    "                 add_recipe(mnist_recipe) |>\n",
    "                 add_model(knn_spec) |>\n",
    "                 tune_grid(resamples = mnist_vfold, grid = tibble(neighbors = c(2,3,4,5,6))) |>\n",
    "                 collect_metrics()\n",
    "\n",
    "accuracies <- knn_results |>\n",
    "                 filter(.metric == 'accuracy')\n",
    "\n",
    "cross_val_plot <- ggplot(accuracies, aes(x = neighbors, y = mean)) +\n",
    "                  geom_point() +\n",
    "                  geom_line() +\n",
    "                  labs(x = 'Neighbors', y = 'Accuracy Estimate') +\n",
    "                  theme(text = element_text(size = 20)) +\n",
    "                  scale_x_continuous(breaks = seq(0, 20, 2)) +\n",
    "                  scale_y_continuous(limits = c(0.7, 0.85))\n",
    "\n",
    "cross_val_plot"
   ]
  },
  {
   "cell_type": "code",
   "execution_count": null,
   "id": "c0e9f5ac-0314-4777-9e0e-4ffca0e71f38",
   "metadata": {
    "tags": []
   },
   "outputs": [],
   "source": [
    "mnist_spec <- nearest_neighbor(weight_func = \"rectangular\", neighbors = 4) |>\n",
    "       set_engine(\"kknn\") |>\n",
    "       set_mode(\"classification\")\n",
    "\n",
    "mnist_fit <- workflow() |>\n",
    "             add_recipe(mnist_recipe) |>\n",
    "             add_model(mnist_spec) |>\n",
    "            fit(data = training_set)\n",
    "mnist_fit"
   ]
  },
  {
   "cell_type": "code",
   "execution_count": null,
   "id": "1aeebede-1844-4f3d-a964-fb0032560530",
   "metadata": {
    "tags": []
   },
   "outputs": [],
   "source": [
    "new_ob <- tibble(age = 50,thalach = 170, chol=140, trestbps=200)\n",
    "heart_disease_predicted <- predict(mnist_fit,new_ob)\n",
    "heart_disease_predicted"
   ]
  },
  {
   "cell_type": "code",
   "execution_count": null,
   "id": "b8e471ad-2510-4bf2-aebe-f0ca4a2ea962",
   "metadata": {
    "tags": []
   },
   "outputs": [],
   "source": [
    "mnist_predictions <- predict(mnist_fit ,testing_set) |>\n",
    "      bind_cols(testing_set)\n",
    "\n",
    "mnist_predictions"
   ]
  },
  {
   "cell_type": "code",
   "execution_count": null,
   "id": "c44dcee5-427b-4f0d-9195-7d3d4ddf2fd8",
   "metadata": {
    "tags": []
   },
   "outputs": [],
   "source": [
    "prediction_accuracy <- mnist_predictions |>\n",
    "        metrics(truth = heart_disease, estimate = .pred_class)             \n",
    "\n",
    "prediction_accuracy"
   ]
  },
  {
   "cell_type": "code",
   "execution_count": null,
   "id": "585b808c-62a5-4e0a-857b-00c47293cc5e",
   "metadata": {
    "tags": []
   },
   "outputs": [],
   "source": [
    "set.seed(9999) \n",
    "\n",
    "mnist_metrics <- mnist_predictions |>\n",
    "  metrics(truth = heart_disease,estimate = .pred_class) |>\n",
    "filter(.metric==\"accuracy\")\n",
    "\n",
    "mnist_conf_mat <- mnist_predictions |>\n",
    "  conf_mat(truth = heart_disease, estimate = .pred_class)\n",
    "\n",
    "\n",
    "mnist_metrics\n",
    "mnist_conf_mat"
   ]
  },
  {
   "cell_type": "code",
   "execution_count": null,
   "id": "19eda508-e74b-4da1-8032-65b5c6aeb685",
   "metadata": {},
   "outputs": [],
   "source": []
  }
 ],
 "metadata": {
  "kernelspec": {
   "display_name": "R",
   "language": "R",
   "name": "ir"
  },
  "language_info": {
   "codemirror_mode": "r",
   "file_extension": ".r",
   "mimetype": "text/x-r-source",
   "name": "R",
   "pygments_lexer": "r",
   "version": "4.2.2"
  }
 },
 "nbformat": 4,
 "nbformat_minor": 5
}
